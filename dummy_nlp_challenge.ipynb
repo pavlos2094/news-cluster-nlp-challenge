{
 "cells": [
  {
   "cell_type": "code",
   "execution_count": 34,
   "metadata": {
    "scrolled": false
   },
   "outputs": [],
   "source": [
    "# Non trivial dependencies\n",
    "\n",
    "!pip install spacy\n",
    "!pip install nltk\n",
    "nltk.download('punkt')\n",
    "!python -m spacy download en_core_web_sm\n",
    "!pip install spacy_langdetect\n",
    "!pip install pyLDAvis\n",
    "!pip install yellowbrick\n",
    "!pip install beautifulsoup4"
   ]
  },
  {
   "cell_type": "code",
   "execution_count": 1,
   "metadata": {},
   "outputs": [],
   "source": [
    "import pandas as pd\n",
    "import matplotlib.pyplot as plt\n",
    "\n",
    "# Suppress warning about chained assignments\n",
    "pd.options.mode.chained_assignment = None"
   ]
  },
  {
   "cell_type": "markdown",
   "metadata": {},
   "source": [
    "### Read dataset"
   ]
  },
  {
   "cell_type": "code",
   "execution_count": 2,
   "metadata": {},
   "outputs": [],
   "source": [
    "# Code assumes dataset is in the same directory\n",
    "\n",
    "data_path = 'Dummy_News_Sample.csv'\n",
    "df = pd.read_csv(data_path)"
   ]
  },
  {
   "cell_type": "code",
   "execution_count": 3,
   "metadata": {},
   "outputs": [],
   "source": [
    "# Cast doc_text column to string\n",
    "df['doc_text'] = df['doc_text'].astype(\"string\")\n",
    "\n",
    "# Remove any NaN rows\n",
    "df.dropna(subset=['doc_text'], inplace=True)"
   ]
  },
  {
   "cell_type": "markdown",
   "metadata": {},
   "source": [
    "### Determine length of each document"
   ]
  },
  {
   "cell_type": "markdown",
   "metadata": {},
   "source": [
    "Calculating the length on each document depends on a few different things, such as the tokenizer used and whether the preprocessing in done beforehand or not. Since we will be filtering based on some quartile, the relevant positions of lengths are more or less going to be same."
   ]
  },
  {
   "cell_type": "code",
   "execution_count": 4,
   "metadata": {},
   "outputs": [
    {
     "data": {
      "text/plain": [
       "<AxesSubplot:>"
      ]
     },
     "execution_count": 4,
     "metadata": {},
     "output_type": "execute_result"
    },
    {
     "data": {
      "image/png": "[encoded data removed]",
      "text/plain": [
       "<Figure size 432x288 with 1 Axes>"
      ]
     },
     "metadata": {
      "needs_background": "light"
     },
     "output_type": "display_data"
    }
   ],
   "source": [
    "import nltk\n",
    "from nltk import word_tokenize\n",
    "\n",
    "df['doc_length'] = df['doc_text'].map(lambda text: len(word_tokenize(text)))\n",
    "df['doc_length'].plot.box()"
   ]
  },
  {
   "cell_type": "markdown",
   "metadata": {},
   "source": [
    "### Filter df based on document length"
   ]
  },
  {
   "cell_type": "code",
   "execution_count": 5,
   "metadata": {},
   "outputs": [
    {
     "name": "stdout",
     "output_type": "stream",
     "text": [
      "Discarded 25 out of 100 rows\n"
     ]
    }
   ],
   "source": [
    "threshold = df['doc_length'].quantile(.75)\n",
    "\n",
    "df_filtered = df[df['doc_length'] <= threshold]\n",
    "print(f'Discarded {df.shape[0] - df_filtered.shape[0]} out of {df.shape[0]} rows')"
   ]
  },
  {
   "cell_type": "markdown",
   "metadata": {},
   "source": [
    "### Determine language and confidence score"
   ]
  },
  {
   "cell_type": "markdown",
   "metadata": {},
   "source": [
    "In order to detect the language of the text I decided to use a simple corresponding module of Spacy. Other more advanced approaches would have been training (small) neural network models in monolingual/multilingual corpora, though this task is challenging only in the case of doduments containing multiple languages at the same time. In that case, a threshold of the model's confidence score should be considered before filtering out documents."
   ]
  },
  {
   "cell_type": "code",
   "execution_count": 6,
   "metadata": {},
   "outputs": [
    {
     "data": {
      "text/plain": [
       "<spacy_langdetect.spacy_langdetect.LanguageDetector at 0x7f7d8c4f90a0>"
      ]
     },
     "execution_count": 6,
     "metadata": {},
     "output_type": "execute_result"
    }
   ],
   "source": [
    "import spacy\n",
    "from spacy.language import Language\n",
    "from spacy_langdetect import LanguageDetector\n",
    "\n",
    "nlp = spacy.load(\"en_core_web_sm\")\n",
    "\n",
    "@Language.factory(\"language_detector\")\n",
    "def create_language_detector(nlp, name):\n",
    "    return LanguageDetector(language_detection_function=None)\n",
    "\n",
    "nlp.add_pipe('language_detector')"
   ]
  },
  {
   "cell_type": "code",
   "execution_count": 7,
   "metadata": {
    "scrolled": false
   },
   "outputs": [
    {
     "data": {
      "text/plain": [
       "count    75.000000\n",
       "mean      0.999997\n",
       "std       0.000001\n",
       "min       0.999995\n",
       "25%       0.999996\n",
       "50%       0.999997\n",
       "75%       0.999998\n",
       "max       0.999999\n",
       "Name: language_confidence, dtype: float64"
      ]
     },
     "execution_count": 7,
     "metadata": {},
     "output_type": "execute_result"
    }
   ],
   "source": [
    "# Text preprocessed by Spacy's linguistic pipeline that includes language detection and entity recognition (among others)\n",
    "df_filtered['doc_text_spacy'] = df_filtered['doc_text'].map(lambda text: nlp(text))\n",
    "df_filtered['language'] = df_filtered['doc_text_spacy'].map(lambda text: text._.language)\n",
    "\n",
    "df_filtered['language_confidence'] = df_filtered['language'].map(lambda lang: lang['score'])\n",
    "df_filtered['language'] = df_filtered['language'].map(lambda lang: lang['language'])\n",
    "\n",
    "df_filtered['language_confidence'].describe()"
   ]
  },
  {
   "cell_type": "markdown",
   "metadata": {},
   "source": [
    "It is noticed that the confidence of the language detector is exteremely high, leading to the conclusion that texts do not contain multiple languages and are easy to detect. Therefore, no threshold of confidence needs to be set before in filtering non-english text. The distribution of other, non-english languages detected is shown below."
   ]
  },
  {
   "cell_type": "code",
   "execution_count": 8,
   "metadata": {},
   "outputs": [
    {
     "data": {
      "text/plain": [
       "[Text(0.5, 0, 'Language'), Text(0, 0.5, 'Number of documents')]"
      ]
     },
     "execution_count": 8,
     "metadata": {},
     "output_type": "execute_result"
    },
    {
     "data": {
      "image/png": "[encoded data removed]",
      "text/plain": [
       "<Figure size 432x288 with 1 Axes>"
      ]
     },
     "metadata": {},
     "output_type": "display_data"
    }
   ],
   "source": [
    "import seaborn as sns\n",
    "sns.set_theme(style=\"darkgrid\")\n",
    "ax = sns.countplot(x=\"language\", data=df_filtered[df_filtered['language'] != 'en'])\n",
    "ax.set(xlabel='Language', ylabel='Number of documents')"
   ]
  },
  {
   "cell_type": "markdown",
   "metadata": {},
   "source": [
    "### Filter df based on language"
   ]
  },
  {
   "cell_type": "code",
   "execution_count": 9,
   "metadata": {},
   "outputs": [
    {
     "name": "stdout",
     "output_type": "stream",
     "text": [
      "Discarded 25 out of 75 rows\n"
     ]
    }
   ],
   "source": [
    "df_filtered_lang = df_filtered[df_filtered['language'] == 'en']\n",
    "print(f'Discarded {df_filtered.shape[0] - df_filtered_lang.shape[0]} out of {df_filtered.shape[0]} rows')"
   ]
  },
  {
   "cell_type": "markdown",
   "metadata": {},
   "source": [
    "### Entity recognition"
   ]
  },
  {
   "cell_type": "markdown",
   "metadata": {},
   "source": [
    "Spacy's statistical NER performs decently and that's why it was selected. Training an NER from scratch requires customizing and fine-tunning but might be the best option in order to achieve more accurate results, especially when having large amount of data. Pre-trained transformer-based models can also be used, and HugginFace provides a BERT-based one that is also trained on news articles (https://huggingface.co/dslim/bert-base-NER). However, it should be noted that, since it is BERT-based, it uses a subword tokenizer (WordPiece, specifically) so subwords are occasionally assigned entities."
   ]
  },
  {
   "cell_type": "code",
   "execution_count": 10,
   "metadata": {},
   "outputs": [],
   "source": [
    "df_filtered_lang['persons'] = df_filtered_lang['doc_text_spacy'].map(lambda text: [ent.text for ent in text.ents if ent.label_ == 'PERSON'])\n",
    "df_filtered_lang['organisations'] = df_filtered_lang['doc_text_spacy'].map(lambda text: [ent.text for ent in text.ents if ent.label_ == 'ORG'])"
   ]
  },
  {
   "cell_type": "markdown",
   "metadata": {},
   "source": [
    "The 10 most common Person and Organisation entities are shown below."
   ]
  },
  {
   "cell_type": "code",
   "execution_count": 26,
   "metadata": {},
   "outputs": [
    {
     "name": "stderr",
     "output_type": "stream",
     "text": [
      "/home/pavlos2094/anaconda3/lib/python3.8/site-packages/ipykernel/ipkernel.py:283: DeprecationWarning: `should_run_async` will not call `transform_cell` automatically in the future. Please pass the result to `transformed_cell` argument and any exception that happen during thetransform in `preprocessing_exc_tuple` in IPython 7.17 and above.\n",
      "  and should_run_async(code)\n"
     ]
    },
    {
     "data": {
      "text/plain": [
       "Text(0, 0.5, 'Count')"
      ]
     },
     "execution_count": 26,
     "metadata": {},
     "output_type": "execute_result"
    },
    {
     "data": {
      "image/png": "[encoded data removed]",
      "text/plain": [
       "<Figure size 576x396 with 1 Axes>"
      ]
     },
     "metadata": {},
     "output_type": "display_data"
    }
   ],
   "source": [
    "from collections import Counter\n",
    "persons_counter = Counter([p for persons in df_filtered_lang['persons'] for p in persons])\n",
    "# persons_counter.most_common(10)\n",
    "\n",
    "persons_counter_dict = dict(persons_counter.most_common(10))\n",
    "plt.bar(persons_counter_dict.keys(), persons_counter_dict.values())\n",
    "plt.xticks(rotation=55)\n",
    "plt.xlabel('Person')\n",
    "plt.ylabel('Count')"
   ]
  },
  {
   "cell_type": "markdown",
   "metadata": {},
   "source": [
    "The NER model has detected separate entities for Madoff (either with Mr. or his first name before), so grouping these together should be considered (part of the manual fine-tunning mentioned) for better results. Same applies for Anderson and Tom Anderson."
   ]
  },
  {
   "cell_type": "code",
   "execution_count": 27,
   "metadata": {},
   "outputs": [
    {
     "name": "stderr",
     "output_type": "stream",
     "text": [
      "/home/pavlos2094/anaconda3/lib/python3.8/site-packages/ipykernel/ipkernel.py:283: DeprecationWarning: `should_run_async` will not call `transform_cell` automatically in the future. Please pass the result to `transformed_cell` argument and any exception that happen during thetransform in `preprocessing_exc_tuple` in IPython 7.17 and above.\n",
      "  and should_run_async(code)\n"
     ]
    },
    {
     "data": {
      "text/plain": [
       "Text(0, 0.5, 'Count')"
      ]
     },
     "execution_count": 27,
     "metadata": {},
     "output_type": "execute_result"
    },
    {
     "data": {
      "image/png": "[encoded data removed]",
      "text/plain": [
       "<Figure size 576x396 with 1 Axes>"
      ]
     },
     "metadata": {},
     "output_type": "display_data"
    }
   ],
   "source": [
    "organisations_counter = Counter([o for organisations in df_filtered_lang['organisations'] for o in organisations])\n",
    "# organisations_counter.most_common(10)\n",
    "\n",
    "organisations_counter_dict = dict(organisations_counter.most_common(10))\n",
    "plt.bar(organisations_counter_dict.keys(), organisations_counter_dict.values())\n",
    "plt.xticks(rotation=55)\n",
    "plt.xlabel('Organisation')\n",
    "plt.ylabel('Count')"
   ]
  },
  {
   "cell_type": "markdown",
   "metadata": {},
   "source": [
    "Wanting to make sure that VECO is actually an organisation and correctly caught by the NER of Spacy, I am going to sample a document that contains that and render it. It looks like the NER model was correct."
   ]
  },
  {
   "cell_type": "code",
   "execution_count": 17,
   "metadata": {
    "scrolled": true
   },
   "outputs": [
    {
     "data": {
      "text/html": [
       "<span class=\"tex2jax_ignore\"><div class=\"entities\" style=\"line-height: 2.5; direction: ltr\">\n",
       "<mark class=\"entity\" style=\"background: #7aecec; padding: 0.45em 0.6em; margin: 0 0.25em; line-height: 1; border-radius: 0.35em;\">\n",
       "    Barbados Free Press\n",
       "    <span style=\"font-size: 0.8em; font-weight: bold; line-height: 1; border-radius: 0.35em; vertical-align: middle; margin-left: 0.5rem\">ORG</span>\n",
       "</mark>\n",
       "</br>Alaska Politicians Made CBC Caps!</br>Source: \n",
       "<mark class=\"entity\" style=\"background: #e4e7d2; padding: 0.45em 0.6em; margin: 0 0.25em; line-height: 1; border-radius: 0.35em;\">\n",
       "    At Least Two\n",
       "    <span style=\"font-size: 0.8em; font-weight: bold; line-height: 1; border-radius: 0.35em; vertical-align: middle; margin-left: 0.5rem\">CARDINAL</span>\n",
       "</mark>\n",
       " Barbados Politicians \n",
       "<mark class=\"entity\" style=\"background: #aa9cfc; padding: 0.45em 0.6em; margin: 0 0.25em; line-height: 1; border-radius: 0.35em;\">\n",
       "    Received\n",
       "    <span style=\"font-size: 0.8em; font-weight: bold; line-height: 1; border-radius: 0.35em; vertical-align: middle; margin-left: 0.5rem\">PERSON</span>\n",
       "</mark>\n",
       " Undeclared “Campaign Donations” From \n",
       "<mark class=\"entity\" style=\"background: #7aecec; padding: 0.45em 0.6em; margin: 0 0.25em; line-height: 1; border-radius: 0.35em;\">\n",
       "    Corrupt Alaskan VECO\n",
       "    <span style=\"font-size: 0.8em; font-weight: bold; line-height: 1; border-radius: 0.35em; vertical-align: middle; margin-left: 0.5rem\">ORG</span>\n",
       "</mark>\n",
       " Corporation</br>\n",
       "<mark class=\"entity\" style=\"background: #feca74; padding: 0.45em 0.6em; margin: 0 0.25em; line-height: 1; border-radius: 0.35em;\">\n",
       "    Alaska\n",
       "    <span style=\"font-size: 0.8em; font-weight: bold; line-height: 1; border-radius: 0.35em; vertical-align: middle; margin-left: 0.5rem\">GPE</span>\n",
       "</mark>\n",
       "’s \n",
       "<mark class=\"entity\" style=\"background: #7aecec; padding: 0.45em 0.6em; margin: 0 0.25em; line-height: 1; border-radius: 0.35em;\">\n",
       "    VECO Corporation\n",
       "    <span style=\"font-size: 0.8em; font-weight: bold; line-height: 1; border-radius: 0.35em; vertical-align: middle; margin-left: 0.5rem\">ORG</span>\n",
       "</mark>\n",
       " is now infamous for using bribery of politicians as a standard operating procedure. In \n",
       "<mark class=\"entity\" style=\"background: #feca74; padding: 0.45em 0.6em; margin: 0 0.25em; line-height: 1; border-radius: 0.35em;\">\n",
       "    the United States\n",
       "    <span style=\"font-size: 0.8em; font-weight: bold; line-height: 1; border-radius: 0.35em; vertical-align: middle; margin-left: 0.5rem\">GPE</span>\n",
       "</mark>\n",
       ", numerous \n",
       "<mark class=\"entity\" style=\"background: #feca74; padding: 0.45em 0.6em; margin: 0 0.25em; line-height: 1; border-radius: 0.35em;\">\n",
       "    US\n",
       "    <span style=\"font-size: 0.8em; font-weight: bold; line-height: 1; border-radius: 0.35em; vertical-align: middle; margin-left: 0.5rem\">GPE</span>\n",
       "</mark>\n",
       " politicians and corporation executives are facing criminal charges or are under \n",
       "<mark class=\"entity\" style=\"background: #7aecec; padding: 0.45em 0.6em; margin: 0 0.25em; line-height: 1; border-radius: 0.35em;\">\n",
       "    FBI\n",
       "    <span style=\"font-size: 0.8em; font-weight: bold; line-height: 1; border-radius: 0.35em; vertical-align: middle; margin-left: 0.5rem\">ORG</span>\n",
       "</mark>\n",
       " investigation for receiving gifts, loans and outright payments from VECO.</br>Several people have already plead guilty or been found guilty, including \n",
       "<mark class=\"entity\" style=\"background: #7aecec; padding: 0.45em 0.6em; margin: 0 0.25em; line-height: 1; border-radius: 0.35em;\">\n",
       "    VECO\n",
       "    <span style=\"font-size: 0.8em; font-weight: bold; line-height: 1; border-radius: 0.35em; vertical-align: middle; margin-left: 0.5rem\">ORG</span>\n",
       "</mark>\n",
       " CEO and founder \n",
       "<mark class=\"entity\" style=\"background: #aa9cfc; padding: 0.45em 0.6em; margin: 0 0.25em; line-height: 1; border-radius: 0.35em;\">\n",
       "    Bill Allen\n",
       "    <span style=\"font-size: 0.8em; font-weight: bold; line-height: 1; border-radius: 0.35em; vertical-align: middle; margin-left: 0.5rem\">PERSON</span>\n",
       "</mark>\n",
       ", VECO Vice-President \n",
       "<mark class=\"entity\" style=\"background: #aa9cfc; padding: 0.45em 0.6em; margin: 0 0.25em; line-height: 1; border-radius: 0.35em;\">\n",
       "    Rick Smith\n",
       "    <span style=\"font-size: 0.8em; font-weight: bold; line-height: 1; border-radius: 0.35em; vertical-align: middle; margin-left: 0.5rem\">PERSON</span>\n",
       "</mark>\n",
       " and political big-shots \n",
       "<mark class=\"entity\" style=\"background: #aa9cfc; padding: 0.45em 0.6em; margin: 0 0.25em; line-height: 1; border-radius: 0.35em;\">\n",
       "    Bill Bobrick\n",
       "    <span style=\"font-size: 0.8em; font-weight: bold; line-height: 1; border-radius: 0.35em; vertical-align: middle; margin-left: 0.5rem\">PERSON</span>\n",
       "</mark>\n",
       ", \n",
       "<mark class=\"entity\" style=\"background: #aa9cfc; padding: 0.45em 0.6em; margin: 0 0.25em; line-height: 1; border-radius: 0.35em;\">\n",
       "    Tom Anderson\n",
       "    <span style=\"font-size: 0.8em; font-weight: bold; line-height: 1; border-radius: 0.35em; vertical-align: middle; margin-left: 0.5rem\">PERSON</span>\n",
       "</mark>\n",
       ", \n",
       "<mark class=\"entity\" style=\"background: #aa9cfc; padding: 0.45em 0.6em; margin: 0 0.25em; line-height: 1; border-radius: 0.35em;\">\n",
       "    Pete Kott\n",
       "    <span style=\"font-size: 0.8em; font-weight: bold; line-height: 1; border-radius: 0.35em; vertical-align: middle; margin-left: 0.5rem\">PERSON</span>\n",
       "</mark>\n",
       ", \n",
       "<mark class=\"entity\" style=\"background: #aa9cfc; padding: 0.45em 0.6em; margin: 0 0.25em; line-height: 1; border-radius: 0.35em;\">\n",
       "    Vic Kohring\n",
       "    <span style=\"font-size: 0.8em; font-weight: bold; line-height: 1; border-radius: 0.35em; vertical-align: middle; margin-left: 0.5rem\">PERSON</span>\n",
       "</mark>\n",
       ", \n",
       "<mark class=\"entity\" style=\"background: #aa9cfc; padding: 0.45em 0.6em; margin: 0 0.25em; line-height: 1; border-radius: 0.35em;\">\n",
       "    Jim Clark\n",
       "    <span style=\"font-size: 0.8em; font-weight: bold; line-height: 1; border-radius: 0.35em; vertical-align: middle; margin-left: 0.5rem\">PERSON</span>\n",
       "</mark>\n",
       " and \n",
       "<mark class=\"entity\" style=\"background: #aa9cfc; padding: 0.45em 0.6em; margin: 0 0.25em; line-height: 1; border-radius: 0.35em;\">\n",
       "    Bill Weimar\n",
       "    <span style=\"font-size: 0.8em; font-weight: bold; line-height: 1; border-radius: 0.35em; vertical-align: middle; margin-left: 0.5rem\">PERSON</span>\n",
       "</mark>\n",
       ".</br>\n",
       "<mark class=\"entity\" style=\"background: #7aecec; padding: 0.45em 0.6em; margin: 0 0.25em; line-height: 1; border-radius: 0.35em;\">\n",
       "    The VECO Barbados Connection\n",
       "VECO\n",
       "    <span style=\"font-size: 0.8em; font-weight: bold; line-height: 1; border-radius: 0.35em; vertical-align: middle; margin-left: 0.5rem\">ORG</span>\n",
       "</mark>\n",
       " also did over half a billion US$ worth of business with the previous \n",
       "<mark class=\"entity\" style=\"background: #7aecec; padding: 0.45em 0.6em; margin: 0 0.25em; line-height: 1; border-radius: 0.35em;\">\n",
       "    BLP Barbados Government\n",
       "    <span style=\"font-size: 0.8em; font-weight: bold; line-height: 1; border-radius: 0.35em; vertical-align: middle; margin-left: 0.5rem\">ORG</span>\n",
       "</mark>\n",
       " – building the oil terminal and the new prison. Barbados citizens are unclear on the exact amount of tax dollars that was paid to VECO because under both the previous \n",
       "<mark class=\"entity\" style=\"background: #7aecec; padding: 0.45em 0.6em; margin: 0 0.25em; line-height: 1; border-radius: 0.35em;\">\n",
       "    Arthur/Mottley BLP\n",
       "    <span style=\"font-size: 0.8em; font-weight: bold; line-height: 1; border-radius: 0.35em; vertical-align: middle; margin-left: 0.5rem\">ORG</span>\n",
       "</mark>\n",
       " government and the current \n",
       "<mark class=\"entity\" style=\"background: #7aecec; padding: 0.45em 0.6em; margin: 0 0.25em; line-height: 1; border-radius: 0.35em;\">\n",
       "    Thompson DLP Government\n",
       "    <span style=\"font-size: 0.8em; font-weight: bold; line-height: 1; border-radius: 0.35em; vertical-align: middle; margin-left: 0.5rem\">ORG</span>\n",
       "</mark>\n",
       ", citizens have no right to know how much of their money the government spends and what for.</br>To give you an idea of how VECO typically operated, another one of \n",
       "<mark class=\"entity\" style=\"background: #feca74; padding: 0.45em 0.6em; margin: 0 0.25em; line-height: 1; border-radius: 0.35em;\">\n",
       "    Alaska\n",
       "    <span style=\"font-size: 0.8em; font-weight: bold; line-height: 1; border-radius: 0.35em; vertical-align: middle; margin-left: 0.5rem\">GPE</span>\n",
       "</mark>\n",
       "’s senior politicians has just been charged by the \n",
       "<mark class=\"entity\" style=\"background: #7aecec; padding: 0.45em 0.6em; margin: 0 0.25em; line-height: 1; border-radius: 0.35em;\">\n",
       "    FBI\n",
       "    <span style=\"font-size: 0.8em; font-weight: bold; line-height: 1; border-radius: 0.35em; vertical-align: middle; margin-left: 0.5rem\">ORG</span>\n",
       "</mark>\n",
       " with various corrupt offenses. It is alleged that Senator \n",
       "<mark class=\"entity\" style=\"background: #aa9cfc; padding: 0.45em 0.6em; margin: 0 0.25em; line-height: 1; border-radius: 0.35em;\">\n",
       "    Ted Stephens\n",
       "    <span style=\"font-size: 0.8em; font-weight: bold; line-height: 1; border-radius: 0.35em; vertical-align: middle; margin-left: 0.5rem\">PERSON</span>\n",
       "</mark>\n",
       " received considerations from \n",
       "<mark class=\"entity\" style=\"background: #7aecec; padding: 0.45em 0.6em; margin: 0 0.25em; line-height: 1; border-radius: 0.35em;\">\n",
       "    VECO Corporation\n",
       "    <span style=\"font-size: 0.8em; font-weight: bold; line-height: 1; border-radius: 0.35em; vertical-align: middle; margin-left: 0.5rem\">ORG</span>\n",
       "</mark>\n",
       " in return for sweetheart government contracts and for pushing through tax laws and other regulations that favoured \n",
       "<mark class=\"entity\" style=\"background: #7aecec; padding: 0.45em 0.6em; margin: 0 0.25em; line-height: 1; border-radius: 0.35em;\">\n",
       "    VECO\n",
       "    <span style=\"font-size: 0.8em; font-weight: bold; line-height: 1; border-radius: 0.35em; vertical-align: middle; margin-left: 0.5rem\">ORG</span>\n",
       "</mark>\n",
       ". \n",
       "<mark class=\"entity\" style=\"background: #aa9cfc; padding: 0.45em 0.6em; margin: 0 0.25em; line-height: 1; border-radius: 0.35em;\">\n",
       "    Stephens\n",
       "    <span style=\"font-size: 0.8em; font-weight: bold; line-height: 1; border-radius: 0.35em; vertical-align: middle; margin-left: 0.5rem\">PERSON</span>\n",
       "</mark>\n",
       " also arranged for VECO to have an inside contact at \n",
       "<mark class=\"entity\" style=\"background: #7aecec; padding: 0.45em 0.6em; margin: 0 0.25em; line-height: 1; border-radius: 0.35em;\">\n",
       "    the World Bank\n",
       "    <span style=\"font-size: 0.8em; font-weight: bold; line-height: 1; border-radius: 0.35em; vertical-align: middle; margin-left: 0.5rem\">ORG</span>\n",
       "</mark>\n",
       " and to receive favourable treatment in an oil deal in \n",
       "<mark class=\"entity\" style=\"background: #feca74; padding: 0.45em 0.6em; margin: 0 0.25em; line-height: 1; border-radius: 0.35em;\">\n",
       "    Pakistan\n",
       "    <span style=\"font-size: 0.8em; font-weight: bold; line-height: 1; border-radius: 0.35em; vertical-align: middle; margin-left: 0.5rem\">GPE</span>\n",
       "</mark>\n",
       ". Here is what he received that we know about…</br>- A job for his son.</br>- The ability to invest US$\n",
       "<mark class=\"entity\" style=\"background: #e4e7d2; padding: 0.45em 0.6em; margin: 0 0.25em; line-height: 1; border-radius: 0.35em;\">\n",
       "    5000\n",
       "    <span style=\"font-size: 0.8em; font-weight: bold; line-height: 1; border-radius: 0.35em; vertical-align: middle; margin-left: 0.5rem\">MONEY</span>\n",
       "</mark>\n",
       " in a \n",
       "<mark class=\"entity\" style=\"background: #feca74; padding: 0.45em 0.6em; margin: 0 0.25em; line-height: 1; border-radius: 0.35em;\">\n",
       "    Florida\n",
       "    <span style=\"font-size: 0.8em; font-weight: bold; line-height: 1; border-radius: 0.35em; vertical-align: middle; margin-left: 0.5rem\">GPE</span>\n",
       "</mark>\n",
       " condo which was later sold for a profit of \n",
       "<mark class=\"entity\" style=\"background: #e4e7d2; padding: 0.45em 0.6em; margin: 0 0.25em; line-height: 1; border-radius: 0.35em;\">\n",
       "    over US$100,000\n",
       "    <span style=\"font-size: 0.8em; font-weight: bold; line-height: 1; border-radius: 0.35em; vertical-align: middle; margin-left: 0.5rem\">MONEY</span>\n",
       "</mark>\n",
       ". (Not a bad return on $\n",
       "<mark class=\"entity\" style=\"background: #e4e7d2; padding: 0.45em 0.6em; margin: 0 0.25em; line-height: 1; border-radius: 0.35em;\">\n",
       "    5000\n",
       "    <span style=\"font-size: 0.8em; font-weight: bold; line-height: 1; border-radius: 0.35em; vertical-align: middle; margin-left: 0.5rem\">MONEY</span>\n",
       "</mark>\n",
       "!!!)</br>- A new \n",
       "<mark class=\"entity\" style=\"background: #7aecec; padding: 0.45em 0.6em; margin: 0 0.25em; line-height: 1; border-radius: 0.35em;\">\n",
       "    Jeep\n",
       "    <span style=\"font-size: 0.8em; font-weight: bold; line-height: 1; border-radius: 0.35em; vertical-align: middle; margin-left: 0.5rem\">ORG</span>\n",
       "</mark>\n",
       " \n",
       "<mark class=\"entity\" style=\"background: #bfeeb7; padding: 0.45em 0.6em; margin: 0 0.25em; line-height: 1; border-radius: 0.35em;\">\n",
       "    Cherokee\n",
       "    <span style=\"font-size: 0.8em; font-weight: bold; line-height: 1; border-radius: 0.35em; vertical-align: middle; margin-left: 0.5rem\">PRODUCT</span>\n",
       "</mark>\n",
       " vehicle for his daughter.</br>- A Land Rover for himself discounted by US$\n",
       "<mark class=\"entity\" style=\"background: #e4e7d2; padding: 0.45em 0.6em; margin: 0 0.25em; line-height: 1; border-radius: 0.35em;\">\n",
       "    20,000\n",
       "    <span style=\"font-size: 0.8em; font-weight: bold; line-height: 1; border-radius: 0.35em; vertical-align: middle; margin-left: 0.5rem\">MONEY</span>\n",
       "</mark>\n",
       " under list price from the CEO of \n",
       "<mark class=\"entity\" style=\"background: #7aecec; padding: 0.45em 0.6em; margin: 0 0.25em; line-height: 1; border-radius: 0.35em;\">\n",
       "    VECO\n",
       "    <span style=\"font-size: 0.8em; font-weight: bold; line-height: 1; border-radius: 0.35em; vertical-align: middle; margin-left: 0.5rem\">ORG</span>\n",
       "</mark>\n",
       ".</br>- A free generator for his chalet.</br>\n",
       "<mark class=\"entity\" style=\"background: #aa9cfc; padding: 0.45em 0.6em; margin: 0 0.25em; line-height: 1; border-radius: 0.35em;\">\n",
       "    Ted Stephens\n",
       "    <span style=\"font-size: 0.8em; font-weight: bold; line-height: 1; border-radius: 0.35em; vertical-align: middle; margin-left: 0.5rem\">PERSON</span>\n",
       "</mark>\n",
       " and the others also received \n",
       "<mark class=\"entity\" style=\"background: #e4e7d2; padding: 0.45em 0.6em; margin: 0 0.25em; line-height: 1; border-radius: 0.35em;\">\n",
       "    hundreds of thousands\n",
       "    <span style=\"font-size: 0.8em; font-weight: bold; line-height: 1; border-radius: 0.35em; vertical-align: middle; margin-left: 0.5rem\">CARDINAL</span>\n",
       "</mark>\n",
       " of dollars in “campaign contributions” from VECO to ensure that they would be reelected. Yup… nothing was too good for any politician who could award \n",
       "<mark class=\"entity\" style=\"background: #e4e7d2; padding: 0.45em 0.6em; margin: 0 0.25em; line-height: 1; border-radius: 0.35em;\">\n",
       "    multi-million dollar\n",
       "    <span style=\"font-size: 0.8em; font-weight: bold; line-height: 1; border-radius: 0.35em; vertical-align: middle; margin-left: 0.5rem\">MONEY</span>\n",
       "</mark>\n",
       " government contracts to \n",
       "<mark class=\"entity\" style=\"background: #7aecec; padding: 0.45em 0.6em; margin: 0 0.25em; line-height: 1; border-radius: 0.35em;\">\n",
       "    VECO\n",
       "    <span style=\"font-size: 0.8em; font-weight: bold; line-height: 1; border-radius: 0.35em; vertical-align: middle; margin-left: 0.5rem\">ORG</span>\n",
       "</mark>\n",
       ". The corrupt company gave cash, renovated homes, bought cars, trips and condos for politicians as their standard method of operation.</br>That is just how VECO operated worldwide: they obtained government contracts by bribing politicians, but \n",
       "<mark class=\"entity\" style=\"background: #7aecec; padding: 0.45em 0.6em; margin: 0 0.25em; line-height: 1; border-radius: 0.35em;\">\n",
       "    Barbados\n",
       "    <span style=\"font-size: 0.8em; font-weight: bold; line-height: 1; border-radius: 0.35em; vertical-align: middle; margin-left: 0.5rem\">ORG</span>\n",
       "</mark>\n",
       " politicians would have you believe that none of that went on here. No Sir!</br>VECO’s Corrupt Bastards Club</br>At \n",
       "<mark class=\"entity\" style=\"background: #e4e7d2; padding: 0.45em 0.6em; margin: 0 0.25em; line-height: 1; border-radius: 0.35em;\">\n",
       "    one\n",
       "    <span style=\"font-size: 0.8em; font-weight: bold; line-height: 1; border-radius: 0.35em; vertical-align: middle; margin-left: 0.5rem\">CARDINAL</span>\n",
       "</mark>\n",
       " point the bribes were so open that some corrupt \n",
       "<mark class=\"entity\" style=\"background: #feca74; padding: 0.45em 0.6em; margin: 0 0.25em; line-height: 1; border-radius: 0.35em;\">\n",
       "    Alaska\n",
       "    <span style=\"font-size: 0.8em; font-weight: bold; line-height: 1; border-radius: 0.35em; vertical-align: middle; margin-left: 0.5rem\">GPE</span>\n",
       "</mark>\n",
       " politicians made up hats saying “CBC” – which stood for “Corrupt Bastards Club”.</br>This is the same VECO that the \n",
       "<mark class=\"entity\" style=\"background: #aa9cfc; padding: 0.45em 0.6em; margin: 0 0.25em; line-height: 1; border-radius: 0.35em;\">\n",
       "    Owen Arthur\n",
       "    <span style=\"font-size: 0.8em; font-weight: bold; line-height: 1; border-radius: 0.35em; vertical-align: middle; margin-left: 0.5rem\">PERSON</span>\n",
       "</mark>\n",
       "/\n",
       "<mark class=\"entity\" style=\"background: #aa9cfc; padding: 0.45em 0.6em; margin: 0 0.25em; line-height: 1; border-radius: 0.35em;\">\n",
       "    Mia Mottley\n",
       "    <span style=\"font-size: 0.8em; font-weight: bold; line-height: 1; border-radius: 0.35em; vertical-align: middle; margin-left: 0.5rem\">PERSON</span>\n",
       "</mark>\n",
       " \n",
       "<mark class=\"entity\" style=\"background: #7aecec; padding: 0.45em 0.6em; margin: 0 0.25em; line-height: 1; border-radius: 0.35em;\">\n",
       "    BLP\n",
       "    <span style=\"font-size: 0.8em; font-weight: bold; line-height: 1; border-radius: 0.35em; vertical-align: middle; margin-left: 0.5rem\">ORG</span>\n",
       "</mark>\n",
       " government of \n",
       "<mark class=\"entity\" style=\"background: #7aecec; padding: 0.45em 0.6em; margin: 0 0.25em; line-height: 1; border-radius: 0.35em;\">\n",
       "    Barbados\n",
       "    <span style=\"font-size: 0.8em; font-weight: bold; line-height: 1; border-radius: 0.35em; vertical-align: middle; margin-left: 0.5rem\">ORG</span>\n",
       "</mark>\n",
       " hired without open competitive bidding to build our oil terminal and our new prison. VECO had never built a prison before, but by god, they were given the contract as a gift by then Attorney General \n",
       "<mark class=\"entity\" style=\"background: #aa9cfc; padding: 0.45em 0.6em; margin: 0 0.25em; line-height: 1; border-radius: 0.35em;\">\n",
       "    Mia Mottley\n",
       "    <span style=\"font-size: 0.8em; font-weight: bold; line-height: 1; border-radius: 0.35em; vertical-align: middle; margin-left: 0.5rem\">PERSON</span>\n",
       "</mark>\n",
       " and Prime Minister \n",
       "<mark class=\"entity\" style=\"background: #aa9cfc; padding: 0.45em 0.6em; margin: 0 0.25em; line-height: 1; border-radius: 0.35em;\">\n",
       "    Owen Arthur\n",
       "    <span style=\"font-size: 0.8em; font-weight: bold; line-height: 1; border-radius: 0.35em; vertical-align: middle; margin-left: 0.5rem\">PERSON</span>\n",
       "</mark>\n",
       ".</br>Our source says that \n",
       "<mark class=\"entity\" style=\"background: #aa9cfc; padding: 0.45em 0.6em; margin: 0 0.25em; line-height: 1; border-radius: 0.35em;\">\n",
       "    Mia Mottley\n",
       "    <span style=\"font-size: 0.8em; font-weight: bold; line-height: 1; border-radius: 0.35em; vertical-align: middle; margin-left: 0.5rem\">PERSON</span>\n",
       "</mark>\n",
       " received over $\n",
       "<mark class=\"entity\" style=\"background: #e4e7d2; padding: 0.45em 0.6em; margin: 0 0.25em; line-height: 1; border-radius: 0.35em;\">\n",
       "    100,000\n",
       "    <span style=\"font-size: 0.8em; font-weight: bold; line-height: 1; border-radius: 0.35em; vertical-align: middle; margin-left: 0.5rem\">MONEY</span>\n",
       "</mark>\n",
       " in undeclared “campaign contributions” from \n",
       "<mark class=\"entity\" style=\"background: #7aecec; padding: 0.45em 0.6em; margin: 0 0.25em; line-height: 1; border-radius: 0.35em;\">\n",
       "    VECO Corporation\n",
       "    <span style=\"font-size: 0.8em; font-weight: bold; line-height: 1; border-radius: 0.35em; vertical-align: middle; margin-left: 0.5rem\">ORG</span>\n",
       "</mark>\n",
       " that she fed into her constituency office. This is only what the folks in the office saw and is probably a fraction of the total. After all, if \n",
       "<mark class=\"entity\" style=\"background: #7aecec; padding: 0.45em 0.6em; margin: 0 0.25em; line-height: 1; border-radius: 0.35em;\">\n",
       "    VECO\n",
       "    <span style=\"font-size: 0.8em; font-weight: bold; line-height: 1; border-radius: 0.35em; vertical-align: middle; margin-left: 0.5rem\">ORG</span>\n",
       "</mark>\n",
       " received \n",
       "<mark class=\"entity\" style=\"background: #e4e7d2; padding: 0.45em 0.6em; margin: 0 0.25em; line-height: 1; border-radius: 0.35em;\">\n",
       "    half-a-billion dollars\n",
       "    <span style=\"font-size: 0.8em; font-weight: bold; line-height: 1; border-radius: 0.35em; vertical-align: middle; margin-left: 0.5rem\">CARDINAL</span>\n",
       "</mark>\n",
       " in government contracts, you can bet that they paid out more than a lousy $\n",
       "<mark class=\"entity\" style=\"background: #e4e7d2; padding: 0.45em 0.6em; margin: 0 0.25em; line-height: 1; border-radius: 0.35em;\">\n",
       "    100\n",
       "    <span style=\"font-size: 0.8em; font-weight: bold; line-height: 1; border-radius: 0.35em; vertical-align: middle; margin-left: 0.5rem\">MONEY</span>\n",
       "</mark>\n",
       " grand.</br>Our same source says that Prime Minister \n",
       "<mark class=\"entity\" style=\"background: #aa9cfc; padding: 0.45em 0.6em; margin: 0 0.25em; line-height: 1; border-radius: 0.35em;\">\n",
       "    Owen Arthur\n",
       "    <span style=\"font-size: 0.8em; font-weight: bold; line-height: 1; border-radius: 0.35em; vertical-align: middle; margin-left: 0.5rem\">PERSON</span>\n",
       "</mark>\n",
       "’s constituency office also received big money from \n",
       "<mark class=\"entity\" style=\"background: #7aecec; padding: 0.45em 0.6em; margin: 0 0.25em; line-height: 1; border-radius: 0.35em;\">\n",
       "    VECO\n",
       "    <span style=\"font-size: 0.8em; font-weight: bold; line-height: 1; border-radius: 0.35em; vertical-align: middle; margin-left: 0.5rem\">ORG</span>\n",
       "</mark>\n",
       ", but on the amount they are unsure. Would \n",
       "<mark class=\"entity\" style=\"background: #aa9cfc; padding: 0.45em 0.6em; margin: 0 0.25em; line-height: 1; border-radius: 0.35em;\">\n",
       "    Arthur\n",
       "    <span style=\"font-size: 0.8em; font-weight: bold; line-height: 1; border-radius: 0.35em; vertical-align: middle; margin-left: 0.5rem\">PERSON</span>\n",
       "</mark>\n",
       " have accepted less than his Attorney General that he barely tolerated?</br>Perhaps Mr. \n",
       "<mark class=\"entity\" style=\"background: #aa9cfc; padding: 0.45em 0.6em; margin: 0 0.25em; line-height: 1; border-radius: 0.35em;\">\n",
       "    Arthur\n",
       "    <span style=\"font-size: 0.8em; font-weight: bold; line-height: 1; border-radius: 0.35em; vertical-align: middle; margin-left: 0.5rem\">PERSON</span>\n",
       "</mark>\n",
       " can advise his fellow citizens from \n",
       "<mark class=\"entity\" style=\"background: #feca74; padding: 0.45em 0.6em; margin: 0 0.25em; line-height: 1; border-radius: 0.35em;\">\n",
       "    Switzerland\n",
       "    <span style=\"font-size: 0.8em; font-weight: bold; line-height: 1; border-radius: 0.35em; vertical-align: middle; margin-left: 0.5rem\">GPE</span>\n",
       "</mark>\n",
       ", \n",
       "<mark class=\"entity\" style=\"background: #feca74; padding: 0.45em 0.6em; margin: 0 0.25em; line-height: 1; border-radius: 0.35em;\">\n",
       "    London\n",
       "    <span style=\"font-size: 0.8em; font-weight: bold; line-height: 1; border-radius: 0.35em; vertical-align: middle; margin-left: 0.5rem\">GPE</span>\n",
       "</mark>\n",
       " or \n",
       "<mark class=\"entity\" style=\"background: #feca74; padding: 0.45em 0.6em; margin: 0 0.25em; line-height: 1; border-radius: 0.35em;\">\n",
       "    Miami\n",
       "    <span style=\"font-size: 0.8em; font-weight: bold; line-height: 1; border-radius: 0.35em; vertical-align: middle; margin-left: 0.5rem\">GPE</span>\n",
       "</mark>\n",
       " – or whatever jurisdiction he ends up retiring to as he becomes a “consultant” to justify his continued income.</br>Former Attorney General \n",
       "<mark class=\"entity\" style=\"background: #aa9cfc; padding: 0.45em 0.6em; margin: 0 0.25em; line-height: 1; border-radius: 0.35em;\">\n",
       "    Dale Marshall\n",
       "    <span style=\"font-size: 0.8em; font-weight: bold; line-height: 1; border-radius: 0.35em; vertical-align: middle; margin-left: 0.5rem\">PERSON</span>\n",
       "</mark>\n",
       ": Corrupt Bastard</br>And what did the Government of Barbados do when \n",
       "<mark class=\"entity\" style=\"background: #7aecec; padding: 0.45em 0.6em; margin: 0 0.25em; line-height: 1; border-radius: 0.35em;\">\n",
       "    Barbados Free Press\n",
       "    <span style=\"font-size: 0.8em; font-weight: bold; line-height: 1; border-radius: 0.35em; vertical-align: middle; margin-left: 0.5rem\">ORG</span>\n",
       "</mark>\n",
       " and the other blogs broke the story to the \n",
       "<mark class=\"entity\" style=\"background: #7aecec; padding: 0.45em 0.6em; margin: 0 0.25em; line-height: 1; border-radius: 0.35em;\">\n",
       "    Barbados\n",
       "    <span style=\"font-size: 0.8em; font-weight: bold; line-height: 1; border-radius: 0.35em; vertical-align: middle; margin-left: 0.5rem\">ORG</span>\n",
       "</mark>\n",
       " public that \n",
       "<mark class=\"entity\" style=\"background: #7aecec; padding: 0.45em 0.6em; margin: 0 0.25em; line-height: 1; border-radius: 0.35em;\">\n",
       "    VECO\n",
       "    <span style=\"font-size: 0.8em; font-weight: bold; line-height: 1; border-radius: 0.35em; vertical-align: middle; margin-left: 0.5rem\">ORG</span>\n",
       "</mark>\n",
       " executives and politicians were being arrested? (\n",
       "<mark class=\"entity\" style=\"background: #7aecec; padding: 0.45em 0.6em; margin: 0 0.25em; line-height: 1; border-radius: 0.35em;\">\n",
       "    BFP\n",
       "    <span style=\"font-size: 0.8em; font-weight: bold; line-height: 1; border-radius: 0.35em; vertical-align: middle; margin-left: 0.5rem\">ORG</span>\n",
       "</mark>\n",
       " and the blogs broke the VECO story on the island because the Barbados news media naturally wouldn’t touch a story that showed the government in a bad light.)</br>Well… good old Attorney General \n",
       "<mark class=\"entity\" style=\"background: #aa9cfc; padding: 0.45em 0.6em; margin: 0 0.25em; line-height: 1; border-radius: 0.35em;\">\n",
       "    Dale Marshall\n",
       "    <span style=\"font-size: 0.8em; font-weight: bold; line-height: 1; border-radius: 0.35em; vertical-align: middle; margin-left: 0.5rem\">PERSON</span>\n",
       "</mark>\n",
       " announced that he would have a meeting with \n",
       "<mark class=\"entity\" style=\"background: #7aecec; padding: 0.45em 0.6em; margin: 0 0.25em; line-height: 1; border-radius: 0.35em;\">\n",
       "    VECO\n",
       "    <span style=\"font-size: 0.8em; font-weight: bold; line-height: 1; border-radius: 0.35em; vertical-align: middle; margin-left: 0.5rem\">ORG</span>\n",
       "</mark>\n",
       " executives to get the truth of the story… to see if any improper payments were made by \n",
       "<mark class=\"entity\" style=\"background: #7aecec; padding: 0.45em 0.6em; margin: 0 0.25em; line-height: 1; border-radius: 0.35em;\">\n",
       "    VECO\n",
       "    <span style=\"font-size: 0.8em; font-weight: bold; line-height: 1; border-radius: 0.35em; vertical-align: middle; margin-left: 0.5rem\">ORG</span>\n",
       "</mark>\n",
       " to \n",
       "<mark class=\"entity\" style=\"background: #7aecec; padding: 0.45em 0.6em; margin: 0 0.25em; line-height: 1; border-radius: 0.35em;\">\n",
       "    Barbados\n",
       "    <span style=\"font-size: 0.8em; font-weight: bold; line-height: 1; border-radius: 0.35em; vertical-align: middle; margin-left: 0.5rem\">ORG</span>\n",
       "</mark>\n",
       " government officials and politicians.</br>Yup… Attorney General \n",
       "<mark class=\"entity\" style=\"background: #aa9cfc; padding: 0.45em 0.6em; margin: 0 0.25em; line-height: 1; border-radius: 0.35em;\">\n",
       "    Dale Marshall\n",
       "    <span style=\"font-size: 0.8em; font-weight: bold; line-height: 1; border-radius: 0.35em; vertical-align: middle; margin-left: 0.5rem\">PERSON</span>\n",
       "</mark>\n",
       " met with those \n",
       "<mark class=\"entity\" style=\"background: #7aecec; padding: 0.45em 0.6em; margin: 0 0.25em; line-height: 1; border-radius: 0.35em;\">\n",
       "    VECO\n",
       "    <span style=\"font-size: 0.8em; font-weight: bold; line-height: 1; border-radius: 0.35em; vertical-align: middle; margin-left: 0.5rem\">ORG</span>\n",
       "</mark>\n",
       " executives for \n",
       "<mark class=\"entity\" style=\"background: #bfe1d9; padding: 0.45em 0.6em; margin: 0 0.25em; line-height: 1; border-radius: 0.35em;\">\n",
       "    a half an hour one morning\n",
       "    <span style=\"font-size: 0.8em; font-weight: bold; line-height: 1; border-radius: 0.35em; vertical-align: middle; margin-left: 0.5rem\">TIME</span>\n",
       "</mark>\n",
       " and then held a press conference to announce that everything was on the up and up because the \n",
       "<mark class=\"entity\" style=\"background: #7aecec; padding: 0.45em 0.6em; margin: 0 0.25em; line-height: 1; border-radius: 0.35em;\">\n",
       "    VECO\n",
       "    <span style=\"font-size: 0.8em; font-weight: bold; line-height: 1; border-radius: 0.35em; vertical-align: middle; margin-left: 0.5rem\">ORG</span>\n",
       "</mark>\n",
       " executives said it was.</br>Whew! We were glad to hear that, Dale!</br>\n",
       "<mark class=\"entity\" style=\"background: #aa9cfc; padding: 0.45em 0.6em; margin: 0 0.25em; line-height: 1; border-radius: 0.35em;\">\n",
       "    Dale Marshall\n",
       "    <span style=\"font-size: 0.8em; font-weight: bold; line-height: 1; border-radius: 0.35em; vertical-align: middle; margin-left: 0.5rem\">PERSON</span>\n",
       "</mark>\n",
       ": You corrupt bastard. You were supposed to look after the interests of your fellow citizens but instead you participated in a sham of an inquiry and then covered-up the corruption by your \n",
       "<mark class=\"entity\" style=\"background: #7aecec; padding: 0.45em 0.6em; margin: 0 0.25em; line-height: 1; border-radius: 0.35em;\">\n",
       "    BLP\n",
       "    <span style=\"font-size: 0.8em; font-weight: bold; line-height: 1; border-radius: 0.35em; vertical-align: middle; margin-left: 0.5rem\">ORG</span>\n",
       "</mark>\n",
       " friends.</br>\n",
       "<mark class=\"entity\" style=\"background: #7aecec; padding: 0.45em 0.6em; margin: 0 0.25em; line-height: 1; border-radius: 0.35em;\">\n",
       "    VECO’s Corrupt Bastards Club – Barbados Chapter\n",
       "    <span style=\"font-size: 0.8em; font-weight: bold; line-height: 1; border-radius: 0.35em; vertical-align: middle; margin-left: 0.5rem\">ORG</span>\n",
       "</mark>\n",
       "</br>So far the known membership of \n",
       "<mark class=\"entity\" style=\"background: #7aecec; padding: 0.45em 0.6em; margin: 0 0.25em; line-height: 1; border-radius: 0.35em;\">\n",
       "    the CBC Barbados\n",
       "    <span style=\"font-size: 0.8em; font-weight: bold; line-height: 1; border-radius: 0.35em; vertical-align: middle; margin-left: 0.5rem\">ORG</span>\n",
       "</mark>\n",
       " includes…</br>\n",
       "<mark class=\"entity\" style=\"background: #aa9cfc; padding: 0.45em 0.6em; margin: 0 0.25em; line-height: 1; border-radius: 0.35em;\">\n",
       "    Owen Arthur\n",
       "    <span style=\"font-size: 0.8em; font-weight: bold; line-height: 1; border-radius: 0.35em; vertical-align: middle; margin-left: 0.5rem\">PERSON</span>\n",
       "</mark>\n",
       "</br>\n",
       "<mark class=\"entity\" style=\"background: #aa9cfc; padding: 0.45em 0.6em; margin: 0 0.25em; line-height: 1; border-radius: 0.35em;\">\n",
       "    Mia Mottley\n",
       "    <span style=\"font-size: 0.8em; font-weight: bold; line-height: 1; border-radius: 0.35em; vertical-align: middle; margin-left: 0.5rem\">PERSON</span>\n",
       "</mark>\n",
       "</br>\n",
       "<mark class=\"entity\" style=\"background: #aa9cfc; padding: 0.45em 0.6em; margin: 0 0.25em; line-height: 1; border-radius: 0.35em;\">\n",
       "    Dale Marshall\n",
       "    <span style=\"font-size: 0.8em; font-weight: bold; line-height: 1; border-radius: 0.35em; vertical-align: middle; margin-left: 0.5rem\">PERSON</span>\n",
       "</mark>\n",
       "</br>\n",
       "<mark class=\"entity\" style=\"background: #aa9cfc; padding: 0.45em 0.6em; margin: 0 0.25em; line-height: 1; border-radius: 0.35em;\">\n",
       "    Arthur\n",
       "    <span style=\"font-size: 0.8em; font-weight: bold; line-height: 1; border-radius: 0.35em; vertical-align: middle; margin-left: 0.5rem\">PERSON</span>\n",
       "</mark>\n",
       " and \n",
       "<mark class=\"entity\" style=\"background: #feca74; padding: 0.45em 0.6em; margin: 0 0.25em; line-height: 1; border-radius: 0.35em;\">\n",
       "    Mottley\n",
       "    <span style=\"font-size: 0.8em; font-weight: bold; line-height: 1; border-radius: 0.35em; vertical-align: middle; margin-left: 0.5rem\">GPE</span>\n",
       "</mark>\n",
       " are on the list because they took money from VECO. \n",
       "<mark class=\"entity\" style=\"background: #aa9cfc; padding: 0.45em 0.6em; margin: 0 0.25em; line-height: 1; border-radius: 0.35em;\">\n",
       "    Marshall\n",
       "    <span style=\"font-size: 0.8em; font-weight: bold; line-height: 1; border-radius: 0.35em; vertical-align: middle; margin-left: 0.5rem\">PERSON</span>\n",
       "</mark>\n",
       " is on the list for being a corrupt bastard that covered-up for his friends.</br>Folks, let us know if there are others who should be on the list. Some of the \n",
       "<mark class=\"entity\" style=\"background: #7aecec; padding: 0.45em 0.6em; margin: 0 0.25em; line-height: 1; border-radius: 0.35em;\">\n",
       "    BFP\n",
       "    <span style=\"font-size: 0.8em; font-weight: bold; line-height: 1; border-radius: 0.35em; vertical-align: middle; margin-left: 0.5rem\">ORG</span>\n",
       "</mark>\n",
       " staff want to include current Barbados Prime Minister \n",
       "<mark class=\"entity\" style=\"background: #aa9cfc; padding: 0.45em 0.6em; margin: 0 0.25em; line-height: 1; border-radius: 0.35em;\">\n",
       "    David Thompson\n",
       "    <span style=\"font-size: 0.8em; font-weight: bold; line-height: 1; border-radius: 0.35em; vertical-align: middle; margin-left: 0.5rem\">PERSON</span>\n",
       "</mark>\n",
       " for his reluctance to investigate the VECO scandal and failure to ask the \n",
       "<mark class=\"entity\" style=\"background: #7aecec; padding: 0.45em 0.6em; margin: 0 0.25em; line-height: 1; border-radius: 0.35em;\">\n",
       "    FBI\n",
       "    <span style=\"font-size: 0.8em; font-weight: bold; line-height: 1; border-radius: 0.35em; vertical-align: middle; margin-left: 0.5rem\">ORG</span>\n",
       "</mark>\n",
       " for access to their evidence against \n",
       "<mark class=\"entity\" style=\"background: #7aecec; padding: 0.45em 0.6em; margin: 0 0.25em; line-height: 1; border-radius: 0.35em;\">\n",
       "    Barbados\n",
       "    <span style=\"font-size: 0.8em; font-weight: bold; line-height: 1; border-radius: 0.35em; vertical-align: middle; margin-left: 0.5rem\">ORG</span>\n",
       "</mark>\n",
       " politicians.</br>We’re going to consider adding \n",
       "<mark class=\"entity\" style=\"background: #7aecec; padding: 0.45em 0.6em; margin: 0 0.25em; line-height: 1; border-radius: 0.35em;\">\n",
       "    Thompson\n",
       "    <span style=\"font-size: 0.8em; font-weight: bold; line-height: 1; border-radius: 0.35em; vertical-align: middle; margin-left: 0.5rem\">ORG</span>\n",
       "</mark>\n",
       " to the list, but we’d like some input from other citizens first.</br>Let us know what you think, folks!</br>Further Reading</div></span>"
      ],
      "text/plain": [
       "<IPython.core.display.HTML object>"
      ]
     },
     "metadata": {},
     "output_type": "display_data"
    }
   ],
   "source": [
    "from spacy import displacy\n",
    "\n",
    "doc = df_filtered_lang[df_filtered_lang['organisations'].map(lambda organisations: 'VECO' in organisations)]['doc_text_spacy'].sample()\n",
    "displacy.render(doc, style=\"ent\")"
   ]
  },
  {
   "cell_type": "markdown",
   "metadata": {},
   "source": [
    "### Topic Μodelling"
   ]
  },
  {
   "cell_type": "markdown",
   "metadata": {},
   "source": [
    "LDA creates 1) a document-topic model (trying to assign each document to as few topics possible) and 2) a topic-word model (trying to assign for each topic high probability to as few words as possible). The number of topics is a hyperparameter of the model chosen before training.\n",
    "\n",
    "More advanced Topic Modelling approaches would include neural network models such as a Variational Auto-Encoder where the latent dimension of the intermediate layers would represent the different topics. Trying to encode and decode the document, the model would learn a low-dimensional representation that could be used to capture (non-linear) relations. That way, priors different from Dirichlet (such as Normal) could be considered instead to model the topic distribution. Testing new documents would also be simpler in that case, since with LDA this would require training the whole model from scratch with the updated dataset.\n",
    "\n",
    "A similar approach to Topic Modelling, Document Clustering could also be leveraged. Steps would include representing the documents in some lower dimensional space (e.g. word embeddings or document embeddings such as doc2vec) and clustering using algorithms such as K-Means or even Hierarchical (Agglomerative) ones such as Ward."
   ]
  },
  {
   "cell_type": "code",
   "execution_count": 19,
   "metadata": {},
   "outputs": [],
   "source": [
    "from bs4 import BeautifulSoup\n",
    "\n",
    "def preprocess(dataset):\n",
    "    ds_preprocessed = []\n",
    "    for doc in dataset:\n",
    "        # Remove HTML that might have been mined from the news cluster\n",
    "        tokenized = [BeautifulSoup(doc,'html').get_text()]\n",
    "        '''\n",
    "        Other preprocessing steps can be considered here, however, sklearn's CountVectorizer uses its own tokenizer and preprocessor\n",
    "        that do useful things such as accent and stop word removal and lowercasing, which should be enough for our purpose.\n",
    "        Lemamatization/stemming could also be used, though it didn't seem to have the best results in my case.\n",
    "        '''  \n",
    "        ds_preprocessed.append(' '.join(tokenized))\n",
    "    \n",
    "    return ds_preprocessed\n",
    "\n",
    "\n",
    "corpus = preprocess(df_filtered_lang['doc_text'])"
   ]
  },
  {
   "cell_type": "markdown",
   "metadata": {},
   "source": [
    "The following code cell creates a Bag of Words representation of the corpus that considers unigrams and bigrams (because some focal entities are bigrams), discards words that appear in more than 90% of the documents (since they would be too common to be meaningful to separate topics from) or in less than 3 documents (because they would appear so rarely that would provide a low singal to the model that would essentially be noise). Stop words are also removed."
   ]
  },
  {
   "cell_type": "code",
   "execution_count": 20,
   "metadata": {},
   "outputs": [],
   "source": [
    "from sklearn.feature_extraction.text import CountVectorizer, TfidfVectorizer\n",
    "from sklearn.decomposition import LatentDirichletAllocation, TruncatedSVD\n",
    "\n",
    "count_vectorizer = CountVectorizer(max_df=0.90, min_df=3, stop_words='english', ngram_range=(1, 2))\n",
    "counts = count_vectorizer.fit_transform(corpus)"
   ]
  },
  {
   "cell_type": "markdown",
   "metadata": {},
   "source": [
    "The top 20 words of the (preprocessed) corpus are illustrated below. Clearly, Person entities such as Madoff and Anderson as well as Organisation ones such as VECO play a pivotal role among our news, which are heavily influenced by business/financial articles."
   ]
  },
  {
   "cell_type": "code",
   "execution_count": 28,
   "metadata": {},
   "outputs": [
    {
     "name": "stderr",
     "output_type": "stream",
     "text": [
      "/home/pavlos2094/anaconda3/lib/python3.8/site-packages/ipykernel/ipkernel.py:283: DeprecationWarning: `should_run_async` will not call `transform_cell` automatically in the future. Please pass the result to `transformed_cell` argument and any exception that happen during thetransform in `preprocessing_exc_tuple` in IPython 7.17 and above.\n",
      "  and should_run_async(code)\n"
     ]
    },
    {
     "data": {
      "image/png": "[encoded data removed]",
      "text/plain": [
       "<Figure size 576x396 with 1 Axes>"
      ]
     },
     "metadata": {},
     "output_type": "display_data"
    },
    {
     "data": {
      "text/plain": [
       "<AxesSubplot:title={'center':'Frequency Distribution of Top 20 tokens'}>"
      ]
     },
     "execution_count": 28,
     "metadata": {},
     "output_type": "execute_result"
    }
   ],
   "source": [
    "from yellowbrick.text import FreqDistVisualizer\n",
    "\n",
    "visualizer = FreqDistVisualizer(features=count_vectorizer.get_feature_names(), orient='h', n=20)\n",
    "visualizer.fit(counts).show()"
   ]
  },
  {
   "cell_type": "markdown",
   "metadata": {},
   "source": [
    "The resulting LDA matrix contains the document-topic distribution with the corresponding probabilities. The dominant topic of each document can be considered the one with the highest probability."
   ]
  },
  {
   "cell_type": "code",
   "execution_count": 22,
   "metadata": {},
   "outputs": [],
   "source": [
    "n_topics = 6\n",
    "lda = LatentDirichletAllocation(n_components=n_topics, random_state=42).fit(counts)\n",
    "lda_matrix = lda.transform(counts)\n",
    "\n",
    "df_filtered_lang['dominant_topic'] = lda_matrix.argmax(axis=1)+1"
   ]
  },
  {
   "cell_type": "markdown",
   "metadata": {},
   "source": [
    "The topics' created by the LDA model are presented along with the top 10 words and their corresponding weight. Essentially, these topics can be seen as clusters of words co-occuring with each other, with weighting."
   ]
  },
  {
   "cell_type": "code",
   "execution_count": 23,
   "metadata": {},
   "outputs": [
    {
     "data": {
      "text/html": [
       "<div>\n",
       "<style scoped>\n",
       "    .dataframe tbody tr th:only-of-type {\n",
       "        vertical-align: middle;\n",
       "    }\n",
       "\n",
       "    .dataframe tbody tr th {\n",
       "        vertical-align: top;\n",
       "    }\n",
       "\n",
       "    .dataframe thead th {\n",
       "        text-align: right;\n",
       "    }\n",
       "</style>\n",
       "<table border=\"1\" class=\"dataframe\">\n",
       "  <thead>\n",
       "    <tr style=\"text-align: right;\">\n",
       "      <th></th>\n",
       "      <th>topic_1</th>\n",
       "      <th>topic_2</th>\n",
       "      <th>topic_3</th>\n",
       "      <th>topic_4</th>\n",
       "      <th>topic_5</th>\n",
       "      <th>topic_6</th>\n",
       "    </tr>\n",
       "  </thead>\n",
       "  <tbody>\n",
       "    <tr>\n",
       "      <th>0</th>\n",
       "      <td>(funds, 37.17)</td>\n",
       "      <td>(president, 22.95)</td>\n",
       "      <td>(said, 24.77)</td>\n",
       "      <td>(said, 47.16)</td>\n",
       "      <td>(madoff, 165.75)</td>\n",
       "      <td>(veco, 59.72)</td>\n",
       "    </tr>\n",
       "    <tr>\n",
       "      <th>1</th>\n",
       "      <td>(hedge, 34.17)</td>\n",
       "      <td>(bush, 21.16)</td>\n",
       "      <td>(anderson, 20.69)</td>\n",
       "      <td>(new, 30.71)</td>\n",
       "      <td>(investors, 52.13)</td>\n",
       "      <td>(barbados, 31.58)</td>\n",
       "    </tr>\n",
       "    <tr>\n",
       "      <th>2</th>\n",
       "      <td>(madoff, 33.17)</td>\n",
       "      <td>(house, 13.63)</td>\n",
       "      <td>(court, 18.38)</td>\n",
       "      <td>(anderson, 26.75)</td>\n",
       "      <td>(money, 51.26)</td>\n",
       "      <td>(madoff, 24.98)</td>\n",
       "    </tr>\n",
       "    <tr>\n",
       "      <th>3</th>\n",
       "      <td>(said, 27.24)</td>\n",
       "      <td>(monday, 13.62)</td>\n",
       "      <td>(county, 18.16)</td>\n",
       "      <td>(city, 19.34)</td>\n",
       "      <td>(said, 44.21)</td>\n",
       "      <td>(anderson, 23.06)</td>\n",
       "    </tr>\n",
       "    <tr>\n",
       "      <th>4</th>\n",
       "      <td>(hedge funds, 25.17)</td>\n",
       "      <td>(america, 13.27)</td>\n",
       "      <td>(state, 16.72)</td>\n",
       "      <td>(body, 14.14)</td>\n",
       "      <td>(new, 39.29)</td>\n",
       "      <td>(jewish, 22.33)</td>\n",
       "    </tr>\n",
       "    <tr>\n",
       "      <th>5</th>\n",
       "      <td>(people, 21.17)</td>\n",
       "      <td>(barack obama, 11.17)</td>\n",
       "      <td>(case, 16.57)</td>\n",
       "      <td>(mr, 12.09)</td>\n",
       "      <td>(financial, 36.97)</td>\n",
       "      <td>(2008, 21.03)</td>\n",
       "    </tr>\n",
       "    <tr>\n",
       "      <th>6</th>\n",
       "      <td>(industry, 21.17)</td>\n",
       "      <td>(barack, 11.17)</td>\n",
       "      <td>(thursday, 16.04)</td>\n",
       "      <td>(anderson said, 10.62)</td>\n",
       "      <td>(mr, 36.16)</td>\n",
       "      <td>(december, 20.27)</td>\n",
       "    </tr>\n",
       "    <tr>\n",
       "      <th>7</th>\n",
       "      <td>(investors, 18.17)</td>\n",
       "      <td>(obama, 11.12)</td>\n",
       "      <td>(city, 16.0)</td>\n",
       "      <td>(council, 10.16)</td>\n",
       "      <td>(firm, 34.73)</td>\n",
       "      <td>(jacob, 18.9)</td>\n",
       "    </tr>\n",
       "    <tr>\n",
       "      <th>8</th>\n",
       "      <td>(fund, 15.17)</td>\n",
       "      <td>(people, 11.05)</td>\n",
       "      <td>(attorney, 14.93)</td>\n",
       "      <td>(police, 9.94)</td>\n",
       "      <td>(fraud, 34.02)</td>\n",
       "      <td>(berkman, 18.17)</td>\n",
       "    </tr>\n",
       "    <tr>\n",
       "      <th>9</th>\n",
       "      <td>(year, 12.17)</td>\n",
       "      <td>(tuesday, 10.88)</td>\n",
       "      <td>(myspace, 13.17)</td>\n",
       "      <td>(light, 9.81)</td>\n",
       "      <td>(scheme, 33.87)</td>\n",
       "      <td>(berkman december, 18.17)</td>\n",
       "    </tr>\n",
       "  </tbody>\n",
       "</table>\n",
       "</div>"
      ],
      "text/plain": [
       "                topic_1                topic_2            topic_3  \\\n",
       "0        (funds, 37.17)     (president, 22.95)      (said, 24.77)   \n",
       "1        (hedge, 34.17)          (bush, 21.16)  (anderson, 20.69)   \n",
       "2       (madoff, 33.17)         (house, 13.63)     (court, 18.38)   \n",
       "3         (said, 27.24)        (monday, 13.62)    (county, 18.16)   \n",
       "4  (hedge funds, 25.17)       (america, 13.27)     (state, 16.72)   \n",
       "5       (people, 21.17)  (barack obama, 11.17)      (case, 16.57)   \n",
       "6     (industry, 21.17)        (barack, 11.17)  (thursday, 16.04)   \n",
       "7    (investors, 18.17)         (obama, 11.12)       (city, 16.0)   \n",
       "8         (fund, 15.17)        (people, 11.05)  (attorney, 14.93)   \n",
       "9         (year, 12.17)       (tuesday, 10.88)   (myspace, 13.17)   \n",
       "\n",
       "                  topic_4             topic_5                    topic_6  \n",
       "0           (said, 47.16)    (madoff, 165.75)              (veco, 59.72)  \n",
       "1            (new, 30.71)  (investors, 52.13)          (barbados, 31.58)  \n",
       "2       (anderson, 26.75)      (money, 51.26)            (madoff, 24.98)  \n",
       "3           (city, 19.34)       (said, 44.21)          (anderson, 23.06)  \n",
       "4           (body, 14.14)        (new, 39.29)            (jewish, 22.33)  \n",
       "5             (mr, 12.09)  (financial, 36.97)              (2008, 21.03)  \n",
       "6  (anderson said, 10.62)         (mr, 36.16)          (december, 20.27)  \n",
       "7        (council, 10.16)       (firm, 34.73)              (jacob, 18.9)  \n",
       "8          (police, 9.94)      (fraud, 34.02)           (berkman, 18.17)  \n",
       "9           (light, 9.81)     (scheme, 33.87)  (berkman december, 18.17)  "
      ]
     },
     "execution_count": 23,
     "metadata": {},
     "output_type": "execute_result"
    }
   ],
   "source": [
    "def display_topics(model, feature_names, no_top_words):\n",
    "    topic_dict = {}\n",
    "    for idx, topic in enumerate(model.components_):\n",
    "        topic_dict[f'topic_{idx+1}'] = [(feature_names[i], round(topic[i], 2)) for i in topic.argsort()[:-no_top_words - 1:-1]]\n",
    "    return pd.DataFrame(topic_dict)\n",
    "\n",
    "display_topics(lda, count_vectorizer.get_feature_names(), 10)"
   ]
  },
  {
   "cell_type": "markdown",
   "metadata": {},
   "source": [
    "pyLDAvis is a great tool to interpret the topics in an LDA Topic Model. The LDA matrix is used to visualize document/topic percentages in a lower 2D representation using T-SNE on the left, while the topic (and corpus) term frequency is shown on the right.\n",
    "\n",
    "In general, the hyperparameter value of 6 topics seems to be a good option, since topics are generously sized, well-separated from each other and, judging from their top words, easy to tell what they focus on. For example, Topic 1 seems to be talking about financial news deeply related to Mr. Madoff, while Topic 5 is a more politically related one, hence the existence of terms such as president, Bush, Obama and so on. Mr. Anderson is talked about on Topic 3 (more politically related news) and 6 (legal and law enforcement news), while VECO/Barbados (and possibly fraud/offshore news) are mentioned on Topic 4. Overall, many focal entities extracted on Step 3) heavily dominate each Topic generated by our LDA model."
   ]
  },
  {
   "cell_type": "code",
   "execution_count": 24,
   "metadata": {},
   "outputs": [
    {
     "data": {
      "text/html": [
       "\n",
       "<link rel=\"stylesheet\" type=\"text/css\" href=\"https://cdn.jsdelivr.net/gh/bmabey/pyLDAvis@3.3.1/pyLDAvis/js/ldavis.v1.0.0.css\">\n",
       "\n",
       "\n",
       "<div id=\"ldavis_el150011401769774453764248896011\"></div>\n",
       "<script type=\"text/javascript\">\n",
       "\n",
       "var ldavis_el150011401769774453764248896011_data = {\"mdsDat\": {\"x\": [1.4650187492370605, 54.85479736328125, 32.212928771972656, 5.111096382141113, 26.350170135498047, 38.10981750488281], \"y\": [-47.625064849853516, -36.4767951965332, -61.44457244873047, -14.110331535339355, -33.37470245361328, -7.222781181335449], \"topics\": [1, 2, 3, 4, 5, 6], \"cluster\": [1, 1, 1, 1, 1, 1], \"Freq\": [31.61790932361846, 18.455805871901536, 14.587554836822648, 13.649395343959586, 11.720797938454325, 9.968536685243446]}, \"tinfo\": {\"Term\": [\"veco\", \"said\", \"anderson\", \"barbados\", \"madoff\", \"hedge\", \"city\", \"new\", \"bush\", \"mr\", \"funds\", \"jewish\", \"president\", \"hedge funds\", \"investors\", \"december\", \"jacob\", \"berkman december\", \"jacob berkman\", \"berkman\", \"mr madoff\", \"body\", \"county\", \"court\", \"wall street\", \"industry\", \"2008\", \"wall\", \"financial\", \"case\", \"mr madoff\", \"sons\", \"complaint\", \"commission\", \"sec\", \"nasdaq\", \"securities\", \"chairman nasdaq\", \"nasdaq stock\", \"exchange commission\", \"securities exchange\", \"50bn\", \"jobs\", \"street journal\", \"raised\", \"trading\", \"dec 2008\", \"fell\", \"assets\", \"money madoff\", \"stock exchange\", \"summer\", \"ponzi\", \"exchange\", \"scheme\", \"apart\", \"overnight\", \"billion fraud\", \"criminal complaint\", \"advisory\", \"victims\", \"financial\", \"firm\", \"wall street\", \"madoff\", \"wall\", \"fraud\", \"business\", \"investors\", \"street\", \"mr\", \"market\", \"ponzi scheme\", \"investment\", \"money\", \"york\", \"new york\", \"bernie\", \"allegedly\", \"billion\", \"bernie madoff\", \"new\", \"said\", \"fund\", \"50 billion\", \"2008\", \"50\", \"people\", \"jewish\", \"hedge\", \"advisors\", \"box\", \"cheated\", \"glazer\", \"glazer managing\", \"konig\", \"lawrence\", \"lawrence glazer\", \"managing partner\", \"mayflower\", \"partner mayflower\", \"said lawrence\", \"turecek\", \"boston new\", \"hedge funds\", \"confidence\", \"156\", \"156 months\", \"18 percent\", \"ablan\", \"absolutely think\", \"advisor\", \"advisor trillion\", \"advisors chance\", \"advisors rumors\", \"affable\", \"affable manner\", \"allegedly cheated\", \"artemis\", \"artemis capital\", \"partner\", \"managing\", \"capital\", \"diligence\", \"hedge\", \"funds\", \"industry\", \"likely\", \"partners\", \"managers\", \"rumors\", \"fence\", \"group\", \"months\", \"fund\", \"people\", \"said\", \"madoff\", \"investors\", \"hedge fund\", \"year\", \"clients\", \"new york\", \"york\", \"case\", \"new\", \"investment\", \"years\", \"madoff case\", \"little\", \"known\", \"run\", \"based\", \"fraud\", \"myspace\", \"music\", \"25\", \"weeks\", \"online\", \"sentence\", \"use\", \"watching\", \"monitoring\", \"band\", \"electronic\", \"county\", \"service\", \"push\", \"recorded\", \"remember\", \"live\", \"conversations\", \"charge\", \"wife\", \"alex\", \"passport\", \"voters\", \"jan\", \"june\", \"conditions\", \"second\", \"days\", \"court\", \"dan\", \"felony\", \"thursday\", \"state\", \"attorney\", \"investigation\", \"cornell\", \"political\", \"night\", \"case\", \"charges\", \"city\", \"anderson\", \"way\", \"tom anderson\", \"housing\", \"family\", \"years\", \"said\", \"tom\", \"prison\", \"day\", \"10\", \"members\", \"news\", \"year\", \"like\", \"time\", \"new\", \"barbados\", \"veco\", \"berkman\", \"berkman december\", \"jacob berkman\", \"folks\", \"consultant\", \"bobrick\", \"alaska politician\", \"jacob\", \"scandal\", \"payments\", \"standard operating\", \"prison company\", \"corrupt\", \"anchorage\", \"politician\", \"16\", \"bidding\", \"bribes\", \"operating procedure\", \"paid veco\", \"disgraced\", \"filing\", \"veco shown\", \"barbados veco\", \"shown bribery\", \"exposure\", \"living\", \"answers\", \"politicians\", \"bribery\", \"alaska\", \"madoff scandal\", \"hit\", \"oil\", \"jewish\", \"corruption\", \"school\", \"december\", \"board\", \"received\", \"2008\", \"government\", \"anderson\", \"trial\", \"club\", \"bernard\", \"paid\", \"bernard madoff\", \"prosecutors\", \"madoff\", \"prison\", \"million\", \"new\", \"money\", \"news\", \"said\", \"bush\", \"argus\", \"president bush\", \"iraq\", \"inaugural\", \"shoes\", \"friday\", \"white house\", \"stadium\", \"comedy\", \"iraqi\", \"al\", \"store\", \"kennedy\", \"dallas\", \"argus argushamilton\", \"news journal\", \"god bless\", \"com share\", \"engagements\", \"bless america\", \"store hollywood\", \"host comedian\", \"comedy store\", \"hamilton host\", \"comedian\", \"hollywood reached\", \"share post\", \"house arrest\", \"argushamilton com\", \"hollywood\", \"barack obama\", \"barack\", \"president\", \"monday\", \"house\", \"auto\", \"obama\", \"america\", \"pastor\", \"reached\", \"texas\", \"everybody\", \"tuesday\", \"christmas\", \"share\", \"news\", \"world\", \"billion\", \"people\", \"like\", \"didn\", \"bernie madoff\", \"bernie\", \"time\", \"wall\", \"street\", \"december\", \"madoff\", \"gay\", \"body\", \"oklahoma\", \"killed\", \"addition\", \"police\", \"cafe\", \"maintenance\", \"outside\", \"california\", \"playing\", \"strength\", \"40\", \"women\", \"kids\", \"mother\", \"red\", \"team\", \"men\", \"authority\", \"department\", \"lives\", \"anderson said\", \"light\", \"receive\", \"development\", \"streets\", \"city council\", \"approved\", \"david\", \"began\", \"council\", \"city\", \"law\", \"book\", \"anderson\", \"said\", \"new\", \"history\", \"district\", \"yesterday\", \"known\", \"story\", \"control\", \"mr\", \"tom\", \"tom anderson\", \"time\", \"million\", \"people\", \"children\"], \"Freq\": [54.0, 134.0, 59.0, 28.0, 217.0, 45.0, 31.0, 92.0, 18.0, 45.0, 49.0, 37.0, 30.0, 26.0, 67.0, 34.0, 19.0, 17.0, 17.0, 17.0, 30.0, 13.0, 18.0, 21.0, 33.0, 32.0, 47.0, 35.0, 40.0, 30.0, 29.89056104141373, 10.372119322766608, 10.3498123672846, 9.447056610606564, 17.783291019945263, 7.588639024529338, 23.355967597719772, 6.659398100849677, 6.659398100849677, 6.659374545511517, 6.659374545511517, 6.659158189290103, 6.658752567304836, 5.730330152834725, 5.730269169008202, 5.730235872594976, 5.730124431897882, 5.730110382875147, 5.7300632356301735, 5.729911025876795, 5.729905391240857, 5.708543117143319, 24.25412019862173, 12.13904158961031, 31.472862585180142, 4.801087338293538, 4.801047050162777, 4.800972889967389, 4.800891346242692, 4.800877996225138, 10.34705946343009, 34.35858110755549, 32.277080709134474, 27.822364363364592, 154.0237335455747, 27.793796135229915, 31.61243806237429, 27.88590520841422, 48.44554585717226, 28.685075186351618, 33.60238506069859, 14.092713499516822, 13.98633230482419, 28.007095203194808, 47.63715129262268, 29.37232784067319, 29.372325031487687, 27.130766594466937, 12.158673296629432, 26.471112396798016, 23.282162170710077, 36.51096655559846, 41.0848499372933, 16.72463635943126, 13.82196070082184, 18.85723342645822, 14.514812780722629, 18.04492310129619, 15.794949519595669, 14.09300111270921, 5.485143393967296, 5.485143393967296, 5.485143393967296, 5.485143393967296, 5.485143393967296, 5.485143393967296, 5.485143393967296, 5.485143393967296, 5.485143393967296, 5.485143393967296, 5.485143393967296, 5.485143393967296, 5.485143393967296, 4.5956606767389445, 22.385638790418824, 8.153749445947959, 2.816695241456278, 2.816695241456278, 2.816695241456278, 2.816695241456278, 2.816695241456278, 2.816695241456278, 2.816695241456278, 2.816695241456278, 2.816695241456278, 2.816695241456278, 2.816695241456278, 2.816695241456278, 2.816695241456278, 2.816695241456278, 5.485284635313538, 8.154080451641317, 8.153679488102636, 5.4852463244395855, 30.390994235788085, 33.06025996637752, 18.827714567283586, 5.485277835087125, 5.485248964957726, 5.485206040331008, 3.3470983838559456, 3.3470983838181816, 5.485192285750044, 8.178376050168364, 13.490760097558237, 18.82804603744825, 24.231812225831902, 29.502068523053307, 16.159176713189296, 8.153661890574353, 10.82250529369416, 8.153660499563516, 9.932727272483211, 9.932727272726135, 8.175625410468994, 9.932700560122463, 8.153705947294448, 5.489041046081752, 5.485440905443732, 5.485322730487703, 5.485311772508518, 5.485297696125488, 5.4852881357045895, 5.485273197167541, 11.181676950359774, 10.33130697255693, 6.084118913659245, 5.235160830709105, 5.235133556488578, 5.234496524208167, 5.233612270338237, 4.386161170121371, 3.537958424440471, 3.5355768047583473, 3.534193305603243, 15.421770525716305, 6.085136771612048, 2.689080478924393, 2.687543057161035, 2.6854582570586274, 2.6852998891710764, 2.653308898764647, 5.8652969923337634, 6.513540659850988, 2.5830717652349238, 2.544190146360887, 4.387786321126821, 4.384600023283162, 6.920585751315236, 4.387857315744869, 4.327610843351687, 4.385447309137688, 15.611308938350327, 3.5340069143381867, 5.216446846037938, 13.619392959260232, 14.19851075811664, 12.678171570870187, 10.607094687964063, 6.404904461685797, 4.63596973840479, 6.998488376473263, 14.072921993231594, 9.635986076605112, 13.585404252071257, 17.572251218971786, 5.6828645944717175, 9.125969973158341, 6.933206098244121, 7.388737950508202, 10.912578813359405, 21.039489817380076, 9.797144558410267, 8.328216599258107, 6.278291335689407, 6.620645803175685, 6.1552764755099805, 7.307271292649581, 6.8212518284181005, 6.505800696366384, 6.489518665805861, 6.695165023756041, 27.427230059421984, 51.86877325792744, 15.777995921782434, 15.777995921782434, 15.777995921782434, 5.355372650152135, 5.354647471453828, 5.354647471440517, 4.486840386302281, 16.41393558395383, 8.829620313760524, 3.618661485135318, 3.6182786054471254, 3.6072155070828638, 11.975551510487081, 9.139539186745695, 6.223763628023953, 6.221951554171341, 2.7501827081958683, 2.7501827081958683, 2.7501827081958683, 2.7501827081958683, 2.7501827041379157, 2.7501827041379157, 2.74964751269255, 2.7496474813620435, 2.7496472571412505, 2.7489052752838705, 2.7489052582035005, 2.748905258203478, 10.566796825451037, 7.552845298485545, 9.984920704435131, 4.4872504551316545, 4.4035798538301165, 5.355405145306776, 19.3902101844128, 10.61828025464624, 5.849968628492731, 17.605727825709376, 5.148933498915365, 6.873220782136648, 18.262154721215285, 11.925426275306362, 20.02293576879865, 7.7449675791206865, 6.222746799234449, 9.928455041810496, 7.624575323576632, 9.0435884046597, 7.43555639749725, 21.69249362218121, 8.382060758538424, 8.829890731545841, 11.824958067340008, 9.892092479176691, 8.13541169619347, 7.219393150078401, 17.75881628062037, 8.5313586235549, 7.691941315899282, 6.853123101763612, 6.8529403565188565, 6.013781303052759, 6.0135829245934875, 5.174831999292764, 5.174594330372366, 5.1745654512682595, 5.174534355723249, 5.1739042442117285, 5.163806819716066, 4.335508174099171, 4.335486640600706, 4.335435054337613, 4.33543505433758, 4.335435054337575, 4.33543505433754, 4.335435054337531, 4.335435054337513, 4.335435054337505, 4.335435054337492, 4.335435054337476, 4.3354350543374744, 4.335435054337469, 4.33543505433746, 4.3354350543374585, 4.335435054337454, 4.3354350543374345, 7.6925128681595, 9.369819097827408, 9.369818988746678, 19.25658404814398, 11.428599150250209, 11.435596262502784, 5.921796208704768, 9.331461093543004, 11.13663855305877, 5.174916903664707, 5.174667688592625, 5.1285574051471325, 5.152759100113123, 9.13045865630496, 5.062503909755863, 5.979526460071982, 9.057969149886855, 7.509650316441062, 8.73077534238173, 9.270774315003914, 7.02564342841418, 6.166196781935354, 6.5258453896323125, 6.508929172665978, 6.313873320713373, 6.137461256710284, 6.100207675257193, 6.013890108038635, 6.0042521910311, 6.62152553783053, 11.471547700589301, 4.99940106876662, 4.18876566211032, 3.3774751078320895, 8.065592826111379, 2.5676209867690396, 2.567028008288438, 2.5666947990384474, 2.565238410110594, 2.565045638974024, 2.565028544601437, 5.001148759968941, 7.434644256732724, 2.455311995807472, 6.114356487178172, 4.189349487677201, 5.302474206911258, 5.806220216937079, 3.3792852486547944, 7.735064906396285, 3.3157461461951083, 8.613526831105181, 7.958987496469746, 3.158039534773577, 2.5925155181522146, 2.567645107441618, 2.568735821507197, 2.5681362416846767, 2.567630859398041, 4.561675311978021, 8.24149961241024, 15.685647403414949, 7.444283072645127, 3.3945834372113084, 21.70151385816466, 38.255884127046805, 24.907982982555833, 6.536955025696645, 5.472352293913775, 6.623309742514127, 6.95767419389356, 6.688930566634966, 4.692075001352967, 9.806224788261348, 7.650145207399961, 6.336855614969323, 6.822316424757613, 6.625009233575356, 6.74696628872965, 4.989964000472569], \"Total\": [54.0, 134.0, 59.0, 28.0, 217.0, 45.0, 31.0, 92.0, 18.0, 45.0, 49.0, 37.0, 30.0, 26.0, 67.0, 34.0, 19.0, 17.0, 17.0, 17.0, 30.0, 13.0, 18.0, 21.0, 33.0, 32.0, 47.0, 35.0, 40.0, 30.0, 30.600229348183706, 11.085707004598497, 11.083784851533297, 10.156876517825088, 19.356633043399945, 8.298397312975032, 25.830530745190085, 7.369155044284764, 7.369155044284764, 7.3691530167518104, 7.3691530167518104, 7.369139356552459, 7.369082154669889, 6.439924899520073, 6.439919650110604, 6.439916784292875, 6.43991007014422, 6.439903960781957, 6.439904802703329, 6.439896231108687, 6.439895746220094, 6.437800455679621, 27.574529517786807, 13.806453039029746, 35.862708311088845, 5.510682148178927, 5.510678680412711, 5.51067229706223, 5.510665278166079, 5.510667626064335, 11.932815780321132, 40.33125209477311, 38.600190407780936, 33.756510053590254, 217.11682612838638, 35.40103343681236, 41.23085135845241, 36.477142046584014, 67.71041889394712, 38.06817993180154, 45.791797864377415, 17.47149002039496, 17.349637333547676, 38.48241274744052, 73.28428567004133, 46.31073616685255, 46.31073598184883, 42.37999332031467, 15.609377734444815, 44.068883966389485, 38.652595077307005, 92.67165100780636, 134.59730164670498, 33.498220485577, 21.641150070585972, 47.89615042372545, 25.09936045945218, 58.05590181298063, 37.435701576458, 45.04549323054915, 6.201364738246442, 6.201364738246442, 6.201364738246442, 6.201364738246442, 6.201364738246442, 6.201364738246442, 6.201364738246442, 6.201364738246442, 6.201364738246442, 6.201364738246442, 6.201364738246442, 6.201364738246442, 6.201364738246442, 5.311882021258781, 26.818492855445577, 9.799048557734936, 3.532916587245546, 3.532916587245546, 3.532916587245546, 3.532916587245546, 3.532916587245546, 3.532916587245546, 3.532916587245546, 3.532916587245546, 3.532916587245546, 3.532916587245546, 3.532916587245546, 3.532916587245546, 3.532916587245546, 3.532916587245546, 7.070247369195154, 10.727731701049267, 10.728263483359026, 7.130602863955444, 45.04549323054915, 49.989132601479646, 32.44766802212973, 7.979881177089905, 7.999083195973248, 8.059847416504894, 4.404900812835838, 4.404900812834241, 8.806891571672585, 15.643583963460596, 33.498220485577, 58.05590181298063, 134.59730164670498, 217.11682612838638, 67.71041889394712, 19.09146096197562, 37.96452275666928, 21.879187469837646, 46.31073598184883, 46.31073616685255, 30.786610412487832, 92.67165100780636, 38.48241274744052, 34.185630765275654, 9.598487848848096, 13.632441437765735, 19.7893993213835, 17.601170694502954, 18.712237681913614, 41.23085135845241, 11.904835152274929, 11.055537191261276, 6.809480147025895, 5.959989348797888, 5.959986196430024, 5.959975241399188, 5.9599532963986475, 5.110912798906481, 4.261540391466003, 4.26145817622948, 4.26191061855269, 18.75900806861095, 7.67786549637614, 3.412249745526046, 3.4122280490108676, 3.4121753793352907, 3.412163019414156, 3.4154739883660996, 7.610890744070015, 8.627294360090064, 3.4221659672384, 3.4257935591216797, 5.921922522964615, 5.922227202357772, 9.395798842431176, 5.979233782481768, 5.9492179481059955, 6.039796079515904, 21.953146823158384, 5.073065450039874, 7.697401565381103, 22.505325040139393, 25.46230391962076, 22.384273111805367, 18.35867168855082, 10.27595305515009, 6.842096997809407, 11.950901422758664, 30.786610412487832, 18.66881068860271, 31.716662428886124, 59.739724380127235, 9.322613287010638, 21.066444077005514, 13.233932255131492, 15.798565668598926, 34.185630765275654, 134.59730164670498, 29.881484655713997, 22.460247266403755, 12.015640773115496, 15.695633854358366, 12.887235287091544, 32.12608509806303, 37.96452275666928, 26.712990716987893, 32.648762789243904, 92.67165100780636, 28.644527401469162, 54.663195274264524, 17.426284823513157, 17.426284823513157, 17.426284823513157, 6.07533560338018, 6.075298265854731, 6.075298265854421, 5.206855649524548, 19.239691753844617, 10.478479587476516, 4.338383516279304, 4.338375042362395, 4.338130191893617, 14.71439410625032, 11.25462294568235, 7.754983267156083, 7.793235800779035, 3.469904746187686, 3.469904746187686, 3.469904746187686, 3.469904746187686, 3.4699047461141617, 3.4699047461141617, 3.469892901206537, 3.4698929005131243, 3.469892895550629, 3.4699941191431796, 3.4699941190792636, 3.4699941190792654, 14.885017999639238, 10.370238452141539, 15.51959854617014, 6.136097304694726, 6.0436428238318864, 7.753696204991196, 37.435701576458, 18.22121068219543, 8.738372496337995, 34.323592966891965, 7.712065470224015, 11.452551946867848, 47.89615042372545, 26.823216070728563, 59.739724380127235, 15.426491860817016, 11.15072842476588, 27.008693461715104, 17.66161755507668, 26.141361138514114, 16.690889404719805, 217.11682612838638, 22.460247266403755, 30.703542613787725, 92.67165100780636, 73.28428567004133, 32.12608509806303, 134.59730164670498, 18.48739801552289, 9.256287073557436, 8.417136302907316, 7.577924181272297, 7.577920318759166, 6.7387838248268785, 6.73877886114074, 5.899558873011355, 5.899553419348819, 5.899556917494012, 5.899608255412285, 5.8996755410091, 5.89975940854408, 5.060377104478695, 5.060374004449318, 5.060374663582876, 5.060374663582874, 5.060374663582874, 5.060374663582872, 5.060374663582873, 5.060374663582872, 5.060374663582872, 5.060374663582871, 5.060374663582872, 5.060374663582871, 5.060374663582871, 5.06037466358287, 5.06037466358287, 5.06037466358287, 5.06037466358287, 9.285973619820659, 11.953939619314527, 11.95393962062781, 30.845326567915315, 16.81530435361829, 16.865411414227847, 7.5944383525277015, 14.610851021974808, 23.60973493795149, 6.748814966029719, 6.82878868084887, 6.749380207478154, 6.829054018323076, 18.669274335334794, 6.750156982241811, 11.18609528860982, 32.12608509806303, 24.83652577460991, 44.068883966389485, 58.05590181298063, 26.712990716987893, 16.389304090628563, 38.652595077307005, 42.37999332031467, 32.648762789243904, 35.40103343681236, 38.06817993180154, 34.323592966891965, 217.11682612838638, 7.353906474927054, 13.089969476410845, 5.731567057027368, 4.920390531314551, 4.109221675046525, 9.833895096538726, 3.298018363804814, 3.2980878469997403, 3.29807663067059, 3.298107340724651, 3.2981073264777168, 3.298109782143105, 6.5807598399553475, 9.872679709264574, 3.303254054456363, 8.227006707750645, 5.788857746981639, 7.435542210819139, 8.401984617565372, 5.038360869375604, 11.639761049359084, 5.0474815742175245, 13.20521420638949, 12.567333612184633, 4.993315172952754, 4.136695573091336, 4.137199975213769, 4.147223453650504, 4.147285664921017, 4.166496438299682, 7.516683369324381, 14.152446438180942, 31.716662428886124, 14.346320335642183, 5.787032921360903, 59.739724380127235, 134.59730164670498, 92.67165100780636, 15.729442581446317, 11.71226252004052, 17.57550583635802, 19.7893993213835, 19.625189483109434, 10.125017007319709, 45.791797864377415, 29.881484655713997, 21.066444077005514, 32.648762789243904, 30.703542613787725, 58.05590181298063, 12.91625172425095], \"Category\": [\"Default\", \"Default\", \"Default\", \"Default\", \"Default\", \"Default\", \"Default\", \"Default\", \"Default\", \"Default\", \"Default\", \"Default\", \"Default\", \"Default\", \"Default\", \"Default\", \"Default\", \"Default\", \"Default\", \"Default\", \"Default\", \"Default\", \"Default\", \"Default\", \"Default\", \"Default\", \"Default\", \"Default\", \"Default\", \"Default\", \"Topic1\", \"Topic1\", \"Topic1\", \"Topic1\", \"Topic1\", \"Topic1\", \"Topic1\", \"Topic1\", \"Topic1\", \"Topic1\", \"Topic1\", \"Topic1\", \"Topic1\", \"Topic1\", \"Topic1\", \"Topic1\", \"Topic1\", \"Topic1\", \"Topic1\", \"Topic1\", \"Topic1\", \"Topic1\", \"Topic1\", \"Topic1\", \"Topic1\", \"Topic1\", \"Topic1\", \"Topic1\", \"Topic1\", \"Topic1\", \"Topic1\", \"Topic1\", \"Topic1\", \"Topic1\", \"Topic1\", \"Topic1\", \"Topic1\", \"Topic1\", \"Topic1\", \"Topic1\", \"Topic1\", \"Topic1\", \"Topic1\", \"Topic1\", \"Topic1\", \"Topic1\", \"Topic1\", \"Topic1\", \"Topic1\", \"Topic1\", \"Topic1\", \"Topic1\", \"Topic1\", \"Topic1\", \"Topic1\", \"Topic1\", \"Topic1\", \"Topic1\", \"Topic1\", \"Topic1\", \"Topic2\", \"Topic2\", \"Topic2\", \"Topic2\", \"Topic2\", \"Topic2\", \"Topic2\", \"Topic2\", \"Topic2\", \"Topic2\", \"Topic2\", \"Topic2\", \"Topic2\", \"Topic2\", \"Topic2\", \"Topic2\", \"Topic2\", \"Topic2\", \"Topic2\", \"Topic2\", \"Topic2\", \"Topic2\", \"Topic2\", \"Topic2\", \"Topic2\", \"Topic2\", \"Topic2\", \"Topic2\", \"Topic2\", \"Topic2\", \"Topic2\", \"Topic2\", \"Topic2\", \"Topic2\", \"Topic2\", \"Topic2\", \"Topic2\", \"Topic2\", \"Topic2\", \"Topic2\", \"Topic2\", \"Topic2\", \"Topic2\", \"Topic2\", \"Topic2\", \"Topic2\", \"Topic2\", \"Topic2\", \"Topic2\", \"Topic2\", \"Topic2\", \"Topic2\", \"Topic2\", \"Topic2\", \"Topic2\", \"Topic2\", \"Topic2\", \"Topic2\", \"Topic2\", \"Topic2\", \"Topic2\", \"Topic2\", \"Topic2\", \"Topic2\", \"Topic3\", \"Topic3\", \"Topic3\", \"Topic3\", \"Topic3\", \"Topic3\", \"Topic3\", \"Topic3\", \"Topic3\", \"Topic3\", \"Topic3\", \"Topic3\", \"Topic3\", \"Topic3\", \"Topic3\", \"Topic3\", \"Topic3\", \"Topic3\", \"Topic3\", \"Topic3\", \"Topic3\", \"Topic3\", \"Topic3\", \"Topic3\", \"Topic3\", \"Topic3\", \"Topic3\", \"Topic3\", \"Topic3\", \"Topic3\", \"Topic3\", \"Topic3\", \"Topic3\", \"Topic3\", \"Topic3\", \"Topic3\", \"Topic3\", \"Topic3\", \"Topic3\", \"Topic3\", \"Topic3\", \"Topic3\", \"Topic3\", \"Topic3\", \"Topic3\", \"Topic3\", \"Topic3\", \"Topic3\", \"Topic3\", \"Topic3\", \"Topic3\", \"Topic3\", \"Topic3\", \"Topic3\", \"Topic3\", \"Topic3\", \"Topic3\", \"Topic3\", \"Topic4\", \"Topic4\", \"Topic4\", \"Topic4\", \"Topic4\", \"Topic4\", \"Topic4\", \"Topic4\", \"Topic4\", \"Topic4\", \"Topic4\", \"Topic4\", \"Topic4\", \"Topic4\", \"Topic4\", \"Topic4\", \"Topic4\", \"Topic4\", \"Topic4\", \"Topic4\", \"Topic4\", \"Topic4\", \"Topic4\", \"Topic4\", \"Topic4\", \"Topic4\", \"Topic4\", \"Topic4\", \"Topic4\", \"Topic4\", \"Topic4\", \"Topic4\", \"Topic4\", \"Topic4\", \"Topic4\", \"Topic4\", \"Topic4\", \"Topic4\", \"Topic4\", \"Topic4\", \"Topic4\", \"Topic4\", \"Topic4\", \"Topic4\", \"Topic4\", \"Topic4\", \"Topic4\", \"Topic4\", \"Topic4\", \"Topic4\", \"Topic4\", \"Topic4\", \"Topic4\", \"Topic4\", \"Topic4\", \"Topic4\", \"Topic4\", \"Topic4\", \"Topic5\", \"Topic5\", \"Topic5\", \"Topic5\", \"Topic5\", \"Topic5\", \"Topic5\", \"Topic5\", \"Topic5\", \"Topic5\", \"Topic5\", \"Topic5\", \"Topic5\", \"Topic5\", \"Topic5\", \"Topic5\", \"Topic5\", \"Topic5\", \"Topic5\", \"Topic5\", \"Topic5\", \"Topic5\", \"Topic5\", \"Topic5\", \"Topic5\", \"Topic5\", \"Topic5\", \"Topic5\", \"Topic5\", \"Topic5\", \"Topic5\", \"Topic5\", \"Topic5\", \"Topic5\", \"Topic5\", \"Topic5\", \"Topic5\", \"Topic5\", \"Topic5\", \"Topic5\", \"Topic5\", \"Topic5\", \"Topic5\", \"Topic5\", \"Topic5\", \"Topic5\", \"Topic5\", \"Topic5\", \"Topic5\", \"Topic5\", \"Topic5\", \"Topic5\", \"Topic5\", \"Topic5\", \"Topic5\", \"Topic5\", \"Topic5\", \"Topic5\", \"Topic5\", \"Topic6\", \"Topic6\", \"Topic6\", \"Topic6\", \"Topic6\", \"Topic6\", \"Topic6\", \"Topic6\", \"Topic6\", \"Topic6\", \"Topic6\", \"Topic6\", \"Topic6\", \"Topic6\", \"Topic6\", \"Topic6\", \"Topic6\", \"Topic6\", \"Topic6\", \"Topic6\", \"Topic6\", \"Topic6\", \"Topic6\", \"Topic6\", \"Topic6\", \"Topic6\", \"Topic6\", \"Topic6\", \"Topic6\", \"Topic6\", \"Topic6\", \"Topic6\", \"Topic6\", \"Topic6\", \"Topic6\", \"Topic6\", \"Topic6\", \"Topic6\", \"Topic6\", \"Topic6\", \"Topic6\", \"Topic6\", \"Topic6\", \"Topic6\", \"Topic6\", \"Topic6\", \"Topic6\", \"Topic6\", \"Topic6\", \"Topic6\", \"Topic6\"], \"logprob\": [30.0, 29.0, 28.0, 27.0, 26.0, 25.0, 24.0, 23.0, 22.0, 21.0, 20.0, 19.0, 18.0, 17.0, 16.0, 15.0, 14.0, 13.0, 12.0, 11.0, 10.0, 9.0, 8.0, 7.0, 6.0, 5.0, 4.0, 3.0, 2.0, 1.0, -4.7859, -5.8443, -5.8464, -5.9377, -5.3052, -6.1568, -5.0326, -6.2874, -6.2874, -6.2874, -6.2874, -6.2874, -6.2875, -6.4376, -6.4376, -6.4377, -6.4377, -6.4377, -6.4377, -6.4377, -6.4377, -6.4414, -4.9948, -5.687, -4.7343, -6.6146, -6.6146, -6.6146, -6.6146, -6.6146, -5.8467, -4.6466, -4.7091, -4.8576, -3.1463, -4.8586, -4.7299, -4.8553, -4.303, -4.827, -4.6688, -5.5378, -5.5453, -4.851, -4.3198, -4.8034, -4.8034, -4.8827, -5.6854, -4.9074, -5.0357, -4.5858, -4.4678, -5.3665, -5.5572, -5.2465, -5.5082, -5.2905, -5.4237, -5.5377, -5.943, -5.943, -5.943, -5.943, -5.943, -5.943, -5.943, -5.943, -5.943, -5.943, -5.943, -5.943, -5.943, -6.12, -4.5366, -5.5466, -6.6095, -6.6095, -6.6095, -6.6095, -6.6095, -6.6095, -6.6095, -6.6095, -6.6095, -6.6095, -6.6095, -6.6095, -6.6095, -6.6095, -5.943, -5.5465, -5.5466, -5.943, -4.2309, -4.1467, -4.7097, -5.943, -5.943, -5.943, -6.437, -6.437, -5.943, -5.5436, -5.0431, -4.7097, -4.4574, -4.2606, -4.8626, -5.5466, -5.2634, -5.5466, -5.3492, -5.3492, -5.5439, -5.3492, -5.5466, -5.9423, -5.943, -5.943, -5.943, -5.943, -5.943, -5.943, -4.9956, -5.0747, -5.6042, -5.7545, -5.7545, -5.7546, -5.7548, -5.9314, -6.1463, -6.147, -6.1474, -4.6741, -5.604, -6.4207, -6.4212, -6.422, -6.4221, -6.434, -5.6408, -5.536, -6.4609, -6.476, -5.931, -5.9318, -5.4754, -5.931, -5.9448, -5.9316, -4.6619, -6.1474, -5.758, -4.7984, -4.7567, -4.87, -5.0483, -5.5528, -5.876, -5.4642, -4.7656, -5.1444, -4.8009, -4.5435, -5.6724, -5.1987, -5.4735, -5.4099, -5.0199, -4.3635, -5.1278, -5.2902, -5.5728, -5.5197, -5.5925, -5.421, -5.4898, -5.5372, -5.5397, -5.5085, -4.0318, -3.3947, -4.5848, -4.5848, -4.5848, -5.6653, -5.6654, -5.6654, -5.8422, -4.5453, -5.1653, -6.0573, -6.0574, -6.0604, -4.8605, -5.1308, -5.515, -5.5153, -6.3317, -6.3317, -6.3317, -6.3317, -6.3317, -6.3317, -6.3319, -6.3319, -6.3319, -6.3322, -6.3322, -6.3322, -4.9857, -5.3215, -5.0423, -5.8421, -5.861, -5.6653, -4.3786, -4.9808, -5.5769, -4.4752, -5.7046, -5.4157, -4.4386, -4.8647, -4.3465, -5.2963, -5.5152, -5.048, -5.312, -5.1413, -5.3371, -4.2664, -5.2173, -5.1652, -4.8732, -5.0516, -5.2472, -5.3666, -4.3142, -5.0473, -5.1509, -5.2663, -5.2664, -5.397, -5.397, -5.5472, -5.5473, -5.5473, -5.5473, -5.5474, -5.5494, -5.7242, -5.7242, -5.7242, -5.7242, -5.7242, -5.7242, -5.7242, -5.7242, -5.7242, -5.7242, -5.7242, -5.7242, -5.7242, -5.7242, -5.7242, -5.7242, -5.7242, -5.1508, -4.9536, -4.9536, -4.2332, -4.7549, -4.7543, -5.4124, -4.9577, -4.7808, -5.5472, -5.5473, -5.5562, -5.5515, -4.9794, -5.5692, -5.4027, -4.9874, -5.1749, -5.0242, -4.9642, -5.2415, -5.372, -5.3153, -5.3179, -5.3483, -5.3766, -5.3827, -5.397, -5.3986, -5.1388, -4.5893, -5.4198, -5.5967, -5.812, -4.9415, -6.0861, -6.0864, -6.0865, -6.0871, -6.0871, -6.0872, -5.4195, -5.023, -6.1309, -5.2185, -5.5966, -5.3609, -5.2702, -5.8115, -4.9834, -5.8304, -4.8758, -4.9548, -5.8792, -6.0765, -6.0861, -6.0857, -6.0859, -6.0861, -5.5114, -4.9199, -4.2764, -5.0217, -5.8069, -3.9517, -3.3848, -3.8139, -5.1516, -5.3294, -5.1385, -5.0893, -5.1287, -5.4832, -4.7461, -4.9944, -5.1827, -5.1089, -5.1383, -5.12, -5.4217], \"loglift\": [30.0, 29.0, 28.0, 27.0, 26.0, 25.0, 24.0, 23.0, 22.0, 21.0, 20.0, 19.0, 18.0, 17.0, 16.0, 15.0, 14.0, 13.0, 12.0, 11.0, 10.0, 9.0, 8.0, 7.0, 6.0, 5.0, 4.0, 3.0, 2.0, 1.0, 1.128, 1.0849, 1.0829, 1.079, 1.0667, 1.062, 1.0507, 1.0502, 1.0502, 1.0502, 1.0502, 1.0501, 1.0501, 1.0347, 1.0347, 1.0347, 1.0347, 1.0347, 1.0347, 1.0346, 1.0346, 1.0312, 1.0231, 1.0227, 1.0209, 1.0136, 1.0136, 1.0136, 1.0136, 1.0136, 1.0089, 0.9912, 0.9725, 0.9581, 0.8081, 0.9095, 0.8858, 0.8829, 0.8166, 0.8684, 0.8419, 0.9365, 0.936, 0.8337, 0.7207, 0.6961, 0.6961, 0.7054, 0.9016, 0.6417, 0.6445, 0.22, -0.0352, 0.4568, 0.7031, 0.2193, 0.6038, -0.0171, 0.2885, -0.0105, 1.5671, 1.5671, 1.5671, 1.5671, 1.5671, 1.5671, 1.5671, 1.5671, 1.5671, 1.5671, 1.5671, 1.5671, 1.5671, 1.545, 1.5091, 1.506, 1.4632, 1.4632, 1.4632, 1.4632, 1.4632, 1.4632, 1.4632, 1.4632, 1.4632, 1.4632, 1.4632, 1.4632, 1.4632, 1.4632, 1.436, 1.4155, 1.4154, 1.4275, 1.2963, 1.2763, 1.1455, 1.3149, 1.3125, 1.305, 1.4152, 1.4152, 1.2163, 1.0412, 0.7803, 0.5637, -0.0248, -0.3062, 0.257, 0.839, 0.4348, 0.7027, 0.1503, 0.1503, 0.3639, -0.5434, 0.1381, -0.1393, 1.1303, 0.7794, 0.4067, 0.5239, 0.4627, -0.3273, 1.8623, 1.8572, 1.8124, 1.7953, 1.7953, 1.7952, 1.795, 1.7721, 1.7389, 1.7383, 1.7378, 1.7291, 1.6925, 1.6868, 1.6863, 1.6855, 1.6854, 1.6725, 1.6645, 1.644, 1.6437, 1.6275, 1.6252, 1.6244, 1.6192, 1.6156, 1.6068, 1.6049, 1.5841, 1.5635, 1.5359, 1.4227, 1.3409, 1.3565, 1.3764, 1.4523, 1.5358, 1.3899, 1.1422, 1.2637, 1.0772, 0.7013, 1.43, 1.0884, 1.2785, 1.165, 0.7831, 0.0691, 0.8099, 0.9329, 1.2759, 1.0618, 1.1861, 0.4442, 0.2084, 0.5125, 0.3094, -0.7027, 1.948, 1.939, 1.8921, 1.8921, 1.8921, 1.8653, 1.8652, 1.8652, 1.8426, 1.8326, 1.8203, 1.8101, 1.81, 1.807, 1.7855, 1.7833, 1.7715, 1.7663, 1.759, 1.759, 1.759, 1.759, 1.759, 1.759, 1.7588, 1.7588, 1.7588, 1.7585, 1.7585, 1.7585, 1.6488, 1.6745, 1.5504, 1.6785, 1.6749, 1.6214, 1.3336, 1.4515, 1.5902, 1.3239, 1.5875, 1.4809, 1.0273, 1.1809, 0.8984, 1.3024, 1.4082, 0.9907, 1.1515, 0.93, 1.1829, -0.312, 1.0058, 0.7452, -0.0674, -0.0111, 0.618, -0.934, 2.1036, 2.0623, 2.0537, 2.0433, 2.0432, 2.03, 2.0299, 2.0127, 2.0127, 2.0127, 2.0127, 2.0125, 2.0106, 1.9892, 1.9892, 1.9892, 1.9892, 1.9892, 1.9892, 1.9892, 1.9892, 1.9892, 1.9892, 1.9892, 1.9892, 1.9892, 1.9892, 1.9892, 1.9892, 1.9892, 1.9555, 1.9002, 1.9002, 1.6727, 1.7576, 1.7553, 1.895, 1.6954, 1.3924, 1.8783, 1.8664, 1.8692, 1.8622, 1.4285, 1.8561, 1.5175, 0.8778, 0.9477, 0.5249, 0.3093, 0.8082, 1.1663, 0.365, 0.2703, 0.5007, 0.3915, 0.3127, 0.402, -1.4442, 2.2008, 2.1738, 2.1691, 2.1448, 2.1096, 2.1075, 2.0554, 2.0551, 2.055, 2.0544, 2.0544, 2.0544, 2.0313, 2.0221, 2.0091, 2.009, 1.9823, 1.9676, 1.9362, 1.9063, 1.8971, 1.8855, 1.8785, 1.8489, 1.8476, 1.8385, 1.8287, 1.8267, 1.8265, 1.8216, 1.8063, 1.765, 1.6016, 1.6497, 1.7723, 1.2931, 1.0477, 0.9919, 1.4277, 1.5448, 1.3298, 1.2604, 1.2294, 1.5366, 0.7646, 0.9432, 1.1044, 0.7401, 0.7722, 0.1534, 1.3547]}, \"token.table\": {\"Topic\": [1, 3, 4, 6, 2, 2, 3, 4, 2, 1, 2, 3, 4, 5, 6, 3, 3, 6, 1, 2, 3, 5, 1, 2, 5, 1, 2, 2, 6, 2, 2, 2, 2, 2, 1, 2, 2, 5, 3, 4, 4, 3, 1, 2, 2, 1, 3, 4, 5, 3, 4, 3, 4, 6, 3, 6, 4, 1, 3, 6, 5, 5, 5, 2, 2, 1, 1, 3, 4, 6, 1, 6, 3, 5, 3, 1, 5, 1, 5, 3, 4, 4, 1, 2, 3, 4, 1, 5, 6, 1, 4, 1, 4, 1, 2, 4, 1, 2, 4, 1, 2, 3, 4, 5, 1, 2, 3, 4, 5, 4, 1, 2, 3, 4, 5, 1, 5, 4, 5, 6, 4, 4, 6, 5, 6, 2, 2, 3, 4, 4, 5, 1, 2, 3, 4, 6, 6, 6, 1, 2, 1, 2, 3, 1, 3, 6, 1, 3, 4, 5, 6, 2, 1, 3, 6, 3, 5, 1, 3, 6, 3, 6, 1, 2, 3, 4, 5, 5, 5, 5, 5, 1, 1, 3, 4, 1, 2, 4, 1, 3, 6, 3, 3, 4, 3, 4, 1, 3, 4, 5, 1, 3, 6, 1, 3, 5, 3, 4, 6, 1, 5, 3, 6, 4, 6, 3, 4, 1, 3, 1, 1, 4, 5, 1, 3, 6, 5, 6, 1, 3, 4, 5, 6, 1, 2, 4, 3, 4, 6, 3, 5, 1, 5, 1, 4, 1, 4, 1, 3, 5, 1, 3, 4, 2, 4, 1, 4, 6, 1, 2, 3, 4, 4, 1, 2, 4, 5, 5, 1, 2, 4, 5, 1, 2, 3, 4, 6, 2, 2, 5, 1, 4, 5, 6, 2, 4, 5, 1, 2, 1, 2, 1, 2, 1, 6, 4, 5, 4, 5, 5, 5, 3, 4, 5, 6, 5, 1, 3, 5, 1, 2, 5, 1, 3, 4, 1, 2, 4, 1, 2, 5, 5, 5, 1, 4, 1, 4, 3, 6, 1, 4, 5, 1, 3, 4, 5, 6, 6, 1, 2, 3, 4, 6, 2, 1, 3, 4, 6, 2, 2, 1, 3, 4, 6, 1, 3, 4, 5, 6, 1, 2, 3, 2, 3, 5, 6, 3, 1, 6, 4, 1, 2, 3, 4, 5, 2, 3, 1, 4, 6, 1, 2, 1, 2, 2, 1, 2, 2, 3, 4, 1, 6, 1, 4, 5, 6, 3, 5, 6, 1, 2, 3, 4, 5, 1, 3, 1, 2, 3, 6, 3, 6, 1, 4, 6, 1, 3, 3, 1, 1, 1, 2, 3, 4, 5, 6, 1, 2, 4, 5, 1, 3, 4, 5, 5, 1, 3, 5, 6, 1, 3, 5, 4, 5, 6, 3, 4, 6, 1, 1, 3, 4, 4, 2, 4, 2, 1, 2, 4, 3, 3, 5, 4, 1, 2, 3, 4, 5, 6, 6, 3, 6, 3, 4, 4, 6, 1, 4, 6, 1, 3, 4, 5, 1, 3, 4, 5, 1, 3, 4, 5, 6, 5, 1, 3, 4, 5, 4, 1, 3, 4, 5, 3, 1, 1, 5, 4, 6, 1, 3, 4, 3, 4, 6, 3, 2, 1, 2, 3, 4, 5, 1, 2, 3, 4, 5, 6, 2, 1, 4, 1, 3, 4, 5, 1, 4, 5, 1, 5, 3, 5, 1, 4, 1, 3, 3, 4, 1, 2, 3, 5, 5, 5, 4, 1, 5, 4, 3, 4, 5, 6, 1, 5, 5, 1, 3, 4, 6, 1, 3, 5, 1, 5, 6, 6, 1, 3, 4, 6, 3, 5, 1, 3, 5, 1, 3, 4, 5, 6, 1, 3, 4, 5, 6, 3, 4, 6, 1, 3, 4, 6, 3, 4, 5, 6, 2, 3, 3, 4, 4, 1, 3, 3, 6, 1, 5, 6, 1, 5, 3, 3, 5, 3, 5, 1, 3, 4, 5, 6, 1, 3, 4, 5, 1, 2, 3, 4, 5, 6, 1, 2, 3, 5, 6, 1, 6, 1, 2, 4, 5], \"Freq\": [0.3822719143218239, 0.4459839000421279, 0.06371198572030398, 0.12742397144060796, 0.8491567592709465, 0.8491567592709465, 0.1283164048366196, 0.7698984290197176, 0.8491567592709465, 0.3966915886122721, 0.06263551399141139, 0.020878504663803796, 0.37581308394846835, 0.12527102798282277, 0.020878504663803796, 0.8811245308675372, 0.1519581361909699, 0.7597906809548495, 0.5976247890551787, 0.11952495781103573, 0.11952495781103573, 0.1593666104147143, 0.6469157117037138, 0.13862479536508152, 0.2310413256084692, 0.9499073991287423, 0.8491567592709465, 0.8491567592709465, 0.7300652622898554, 0.8491567592709465, 0.8491567592709465, 0.8062741365884969, 0.8491567592709465, 0.8491567592709465, 0.9073310784252381, 0.8491567592709465, 0.8491567592709465, 0.8475042339607686, 0.3221732820681678, 0.6443465641363356, 0.768217955180926, 0.8766377869221004, 0.7687686340961503, 0.19219215852403757, 0.8491567592709465, 0.38119868874651963, 0.08471081972144881, 0.042355409860724405, 0.4659095084679684, 0.17770475382893808, 0.7996713922302214, 0.30130704797807545, 0.3347856088645283, 0.3682641697509811, 0.30291064858793093, 0.6815489593228445, 0.8645547793596912, 0.907328687366284, 0.24112156258207607, 0.7233646877462282, 0.9723121083517845, 0.7904553053721711, 0.7904553053721721, 0.8491567592709465, 0.8491567592709465, 0.9316907910628327, 0.08934844522358909, 0.5807648939533291, 0.26804533567076727, 0.044674222611794545, 0.19847724804276046, 0.5954317441282814, 0.13167530679436804, 0.7900518407662082, 0.9386458424752587, 0.1673088591269764, 0.7528898660713937, 0.16730885914535729, 0.7528898661541078, 0.03491068244849837, 0.9425884261094559, 0.8645799988686576, 0.3206457774849303, 0.2672048145707752, 0.16032288874246514, 0.21376385165662018, 0.13303739839315362, 0.13303739839315362, 0.6651869919657681, 0.05738457795953773, 0.9181532473526037, 0.05738457795953773, 0.9181532473526037, 0.5183516196311028, 0.11107534706380774, 0.3702511568793591, 0.5355497720955997, 0.11476066544905708, 0.3442819963471712, 0.6370930687961592, 0.0707881187551288, 0.04719207917008587, 0.09438415834017173, 0.16517227709530052, 0.5950441349151052, 0.07761445238023111, 0.051742968253487405, 0.10348593650697481, 0.18110038888720592, 0.8645770473371176, 0.5899854423322749, 0.11345873891005287, 0.022691747782010576, 0.0907669911280423, 0.2042257300380952, 0.90733030934638, 0.7904553053721718, 0.6483347449920913, 0.12966694899841827, 0.12966694899841827, 0.8230048602061198, 0.07639437217955922, 0.8403380939751514, 0.3456002457870365, 0.5184003686805547, 0.9412859660642702, 0.8062741365884969, 0.19285959616357556, 0.7714383846543023, 0.8645770473371176, 0.9736362026114412, 0.7676039960653147, 0.08224328529271228, 0.027414428430904095, 0.08224328529271228, 0.05482885686180819, 0.9096371423896499, 0.9096126020388555, 0.18642346015291925, 0.745693840611677, 0.2598532249186808, 0.2598532249186808, 0.45474314360769136, 0.9499053769304167, 0.7883439930700448, 0.13139066551167414, 0.0535652761539062, 0.535652761539062, 0.1606958284617186, 0.0535652761539062, 0.1606958284617186, 0.8062741365884969, 0.3871092099120548, 0.23226552594723285, 0.3871092099120548, 0.14814470280184322, 0.7407235140092161, 0.0630583373797392, 0.44140836165817443, 0.5044666990379136, 0.2411251795752099, 0.7233755387256297, 0.594171973612897, 0.36564429145409044, 0.08968023988271384, 0.538081439296283, 0.2690407196481415, 0.7904553053721718, 0.7904553053721719, 0.8475212748898909, 0.7904553053721718, 0.8860991845480453, 0.9022188840679843, 0.6689820377519579, 0.16724550943798946, 0.10205072401755211, 0.8164057921404169, 0.8230048602060778, 0.19753053239852675, 0.2962957985977901, 0.49382633099631684, 0.87835539378098, 0.5838874474998625, 0.29194372374993127, 0.13592132884020336, 0.8155279730412203, 0.10976219060757958, 0.16464328591136937, 0.6036920483416877, 0.10976219060757958, 0.07065916160630481, 0.28263664642521924, 0.5652732928504385, 0.05330772268674903, 0.7996158403012354, 0.10661544537349806, 0.7288248982656825, 0.09110311228321032, 0.18220622456642063, 0.9073314650067031, 0.7904554083320744, 0.7884779014567139, 0.19711947536417848, 0.24000980555454235, 0.7200294166636271, 0.49934914943735287, 0.41612429119779404, 0.16556850377639754, 0.6622740151055901, 0.9316900289984379, 0.29134479043746536, 0.5244206227874376, 0.17480687426247923, 0.08591241656589356, 0.17182483313178712, 0.6872993325271485, 0.24173884259331757, 0.7252165277799527, 0.2440616134694339, 0.18304621010207542, 0.12203080673471695, 0.36609242020415084, 0.06101540336735847, 0.14024059663382882, 0.7012029831691441, 0.8645770473554373, 0.2561417996622587, 0.2561417996622587, 0.4269029994370978, 0.938546196296901, 0.7904553053721717, 0.14643316589924374, 0.7321658294962187, 0.8691587887256019, 0.07242989906046683, 0.9499056382853445, 0.8645547793437668, 0.37978131216845473, 0.4430781975298638, 0.12659377072281824, 0.9316909128675046, 0.64956985257043, 0.25982794102817197, 0.6810596032626016, 0.8645770473554373, 0.8430187071828192, 0.09917867143327286, 0.04958933571663643, 0.8290114546572163, 0.07771982387411402, 0.051813215916076016, 0.051813215916076016, 0.8229998022196687, 0.7761178570337702, 0.1212684151615266, 0.07276104909691596, 0.02425368303230532, 0.8903690302999971, 0.5074896443325855, 0.38808031625433004, 0.0597046640391277, 0.02985233201956385, 0.20004347904416342, 0.6601434808457393, 0.040008695808832685, 0.10002173952208171, 0.9518750372834236, 0.8062741365884969, 0.8062741365884969, 0.7904553053721713, 0.22368682354043423, 0.44737364708086846, 0.14912454902695615, 0.14912454902695615, 0.5677372043596548, 0.3406423226157929, 0.7904553053721719, 0.31079690765835416, 0.665993373553616, 0.5237943822066292, 0.4190355057653034, 0.14915081252180762, 0.8203294688699418, 0.5721753935906133, 0.4450253061260326, 0.6618524814581707, 0.16546312036454267, 0.1076893001144788, 0.8615144009158304, 0.7904553053721721, 0.7904553053721719, 0.11858590050834918, 0.11858590050834918, 0.6522224527959205, 0.05929295025417459, 0.7904553053721721, 0.4533799844466851, 0.5289433151877992, 0.9237362898461042, 0.36982626892680986, 0.5855582591341156, 0.030818855743900822, 0.3268210305074431, 0.5991718892636457, 0.10894034350248104, 0.7276051058379205, 0.20788717309654872, 0.05197179327413718, 0.7089012412577305, 0.23630041375257682, 0.044306327578608154, 0.9237358190122105, 0.847513899827673, 0.10395176937283027, 0.8316141549826421, 0.05738457795953773, 0.9181532473526037, 0.6754215708589346, 0.16885539271473365, 0.4273994963690446, 0.5075369019382405, 0.05342493704613058, 0.9499147727053096, 0.7450138213249295, 0.2128610918071227, 0.790454924092474, 0.6054635722922476, 0.812943601639552, 0.2021284191116295, 0.25266052388953686, 0.10106420955581474, 0.10106420955581474, 0.3537247334453516, 0.8062741365884969, 0.20911285471207286, 0.13940856980804855, 0.06970428490402428, 0.48792999432816997, 0.8062741365884969, 0.8062741365884969, 0.15914274751653795, 0.07957137375826898, 0.07957137375826898, 0.6365709900661518, 0.2994797581729578, 0.26204478840133805, 0.037434969771619725, 0.26204478840133805, 0.1497398790864789, 0.12531514916174216, 0.6265757458087108, 0.12531514916174216, 0.36677216057195594, 0.07335443211439119, 0.14670886422878238, 0.29341772845756475, 0.8792076999049941, 0.19811860336608023, 0.5943558100982407, 0.8645547793596916, 0.7092955564343784, 0.13817445904565812, 0.027634891809131625, 0.10132793663348262, 0.027634891809131625, 0.5209153857083899, 0.41673230856671195, 0.16297003622072623, 0.6518801448829049, 0.9096179784080313, 0.24814365541268377, 0.6203591385317094, 0.18643270131414474, 0.745730805256579, 0.8062741365884969, 0.8013054401002666, 0.17170830859291428, 0.8062741365884969, 0.4655769733644795, 0.4655769733644795, 0.238038998050384, 0.714116994151152, 0.42340391021074625, 0.29312578399205513, 0.06513906310934559, 0.22798672088270952, 0.23787853706848228, 0.6541659769383262, 0.05946963426712057, 0.6549835283394518, 0.0682274508686929, 0.0682274508686929, 0.1364549017373858, 0.08187294104243148, 0.9316920311566954, 0.9386277337674064, 0.12784794102626915, 0.5113917641050766, 0.06392397051313457, 0.2556958820525383, 0.24310178307206246, 0.7293053492161874, 0.7424910483029855, 0.043675944017822675, 0.21837972008911338, 0.9803848088406784, 0.9045241155630489, 0.9239943148560086, 0.9640415731229848, 0.9499053769304167, 0.3992591002493658, 0.10790786493226102, 0.07553550545258271, 0.12948943791871323, 0.03237235947967831, 0.2697696623306526, 0.6262046885060594, 0.21593265120898597, 0.06477979536269579, 0.08637306048359439, 0.21789147288357427, 0.21789147288357427, 0.2490188261526563, 0.28014617942173836, 0.7904553053721713, 0.1673513929410635, 0.5857298752937222, 0.1673513929410635, 0.08367569647053175, 0.20532684889387906, 0.13688456592925272, 0.6159805466816373, 0.6448537404369039, 0.2579414961747616, 0.872361773011029, 0.8389281174837205, 0.8645770473371176, 0.9096210719003267, 0.9073292583311237, 0.3397197329910108, 0.22647982199400724, 0.45295964398801447, 0.8645770473371176, 0.707188834974126, 0.1414377669948252, 0.8062741365884969, 0.1250143267047656, 0.6250716335238279, 0.1250143267047656, 0.8757095102861813, 0.14817416169112918, 0.7408708084556459, 0.9220023967430363, 0.31004599770036484, 0.3272707753503851, 0.06889911060008108, 0.01722477765002027, 0.15502299885018242, 0.12057344355014189, 0.9096126059681366, 0.10168910591205858, 0.8135128472964687, 0.7307701135486415, 0.2923080454194566, 0.7736960601077257, 0.1289493433512876, 0.20154493599354126, 0.7389980986429846, 0.06718164533118043, 0.8703684312915991, 0.03626535130381663, 0.03626535130381663, 0.03626535130381663, 0.8069332938118114, 0.05763809241512939, 0.05763809241512939, 0.05763809241512939, 0.16209911050839382, 0.032419822101678764, 0.12967928840671505, 0.6159766199318965, 0.032419822101678764, 0.9504420163941939, 0.1335693220300129, 0.3561848587467011, 0.3561848587467011, 0.1335693220300129, 0.9220562369185095, 0.29956462347573365, 0.17973877408544017, 0.4193904728660271, 0.059912924695146724, 0.8791853538661509, 0.9316886430247544, 0.14643885566476372, 0.7321942783238187, 0.20026775105578976, 0.6008032531673693, 0.26195035079674694, 0.08731678359891565, 0.6112174851924096, 0.8791909441309576, 0.17274565099158096, 0.6909826039663238, 0.8792045151513916, 0.6810596032623548, 0.22725761083887708, 0.28407201354859635, 0.1704432081291578, 0.1704432081291578, 0.11362880541943854, 0.30461234733827003, 0.17830966673459708, 0.15602095839277244, 0.05200698613092415, 0.022288708341824635, 0.28232363899644536, 0.8062741365884969, 0.09543369261273003, 0.8589032335145703, 0.8644076663450071, 0.027884118269193778, 0.055768236538387556, 0.027884118269193778, 0.11443778580268486, 0.6866267148161092, 0.11443778580268486, 0.9299137902569001, 0.05166187723649445, 0.6723572803839617, 0.16808932009599042, 0.8904191798026775, 0.07742775476545022, 0.9499056382853445, 0.8389296595175418, 0.7814671933015664, 0.13024453221692772, 0.08939669958097393, 0.26819009874292177, 0.08939669958097393, 0.5363801974858435, 0.7904553053721721, 0.8903683744676498, 0.8645800001051437, 0.9020624481462363, 0.8475217774283481, 0.9220041976412123, 0.54983241281681, 0.1963687188631464, 0.15709497509051715, 0.07854748754525857, 0.9316921013079612, 0.8474921863354222, 0.7904553053721718, 0.15286476609981128, 0.15286476609981128, 0.356684454232893, 0.356684454232893, 0.7617910825249061, 0.07880597405430063, 0.15761194810860127, 0.9316878835725463, 0.24170937010322543, 0.7251281103096763, 0.9096119287001435, 0.931995336187629, 0.13448918339068036, 0.13448918339068036, 0.6724459169534017, 0.1481617525253687, 0.7408087626268436, 0.22216964167734726, 0.6220749966965724, 0.13330178500640835, 0.24503225594311312, 0.18377419195733485, 0.1531451599644457, 0.18377419195733485, 0.214403223950224, 0.1673276966525788, 0.3346553933051576, 0.1673276966525788, 0.06693107866103153, 0.2677243146441261, 0.42721970386182534, 0.2373442799232363, 0.28481313590788354, 0.9316890576341229, 0.3889413130434328, 0.5185884173912438, 0.06482355217390548, 0.10712789174749326, 0.3213836752424798, 0.4820755128637197, 0.05356394587374663, 0.8062741365884969, 0.838932748520243, 0.03658768921145745, 0.9512799194978937, 0.8645799986958825, 0.8380251722725316, 0.08380251722725315, 0.6754563208972095, 0.16886408022430238, 0.7909373620399377, 0.16948657757998664, 0.028247762929997776, 0.8294696328367035, 0.1481195772922685, 0.7826390622152329, 0.6435963624448422, 0.3217981812224211, 0.8389276737564112, 0.8475209939633697, 0.2318223902562102, 0.8113783658967357, 0.10128962241746735, 0.10128962241746735, 0.7090273569222715, 0.523422644454151, 0.040263280342627, 0.120789841027881, 0.322106242741016, 0.3424249550909018, 0.28974419276922464, 0.18438266812587023, 0.052680762321677205, 0.052680762321677205, 0.07902114348251581, 0.3510246770754074, 0.1462602821147531, 0.3217726206524568, 0.05850411284590124, 0.11700822569180248, 0.5689736667102488, 0.3982815666971742, 0.6262046860044753, 0.2159326503463708, 0.06477979510391124, 0.08637306013854831], \"Term\": [\"10\", \"10\", \"10\", \"10\", \"156\", \"156 months\", \"16\", \"16\", \"18 percent\", \"2008\", \"2008\", \"2008\", \"2008\", \"2008\", \"2008\", \"25\", \"40\", \"40\", \"50\", \"50\", \"50\", \"50\", \"50 billion\", \"50 billion\", \"50 billion\", \"50bn\", \"ablan\", \"absolutely think\", \"addition\", \"advisor\", \"advisor trillion\", \"advisors\", \"advisors chance\", \"advisors rumors\", \"advisory\", \"affable\", \"affable manner\", \"al\", \"alaska\", \"alaska\", \"alaska politician\", \"alex\", \"allegedly\", \"allegedly\", \"allegedly cheated\", \"america\", \"america\", \"america\", \"america\", \"anchorage\", \"anchorage\", \"anderson\", \"anderson\", \"anderson\", \"anderson said\", \"anderson said\", \"answers\", \"apart\", \"approved\", \"approved\", \"argus\", \"argus argushamilton\", \"argushamilton com\", \"artemis\", \"artemis capital\", \"assets\", \"attorney\", \"attorney\", \"attorney\", \"attorney\", \"authority\", \"authority\", \"auto\", \"auto\", \"band\", \"barack\", \"barack\", \"barack obama\", \"barack obama\", \"barbados\", \"barbados\", \"barbados veco\", \"based\", \"based\", \"based\", \"based\", \"began\", \"began\", \"began\", \"berkman\", \"berkman\", \"berkman december\", \"berkman december\", \"bernard\", \"bernard\", \"bernard\", \"bernard madoff\", \"bernard madoff\", \"bernard madoff\", \"bernie\", \"bernie\", \"bernie\", \"bernie\", \"bernie\", \"bernie madoff\", \"bernie madoff\", \"bernie madoff\", \"bernie madoff\", \"bernie madoff\", \"bidding\", \"billion\", \"billion\", \"billion\", \"billion\", \"billion\", \"billion fraud\", \"bless america\", \"board\", \"board\", \"board\", \"bobrick\", \"body\", \"body\", \"book\", \"book\", \"boston new\", \"box\", \"bribery\", \"bribery\", \"bribes\", \"bush\", \"business\", \"business\", \"business\", \"business\", \"business\", \"cafe\", \"california\", \"capital\", \"capital\", \"case\", \"case\", \"case\", \"chairman nasdaq\", \"charge\", \"charge\", \"charges\", \"charges\", \"charges\", \"charges\", \"charges\", \"cheated\", \"children\", \"children\", \"children\", \"christmas\", \"christmas\", \"city\", \"city\", \"city\", \"city council\", \"city council\", \"clients\", \"clients\", \"club\", \"club\", \"club\", \"com share\", \"comedian\", \"comedy\", \"comedy store\", \"commission\", \"complaint\", \"conditions\", \"conditions\", \"confidence\", \"confidence\", \"consultant\", \"control\", \"control\", \"control\", \"conversations\", \"cornell\", \"cornell\", \"corrupt\", \"corrupt\", \"corruption\", \"corruption\", \"corruption\", \"corruption\", \"council\", \"council\", \"council\", \"county\", \"county\", \"county\", \"court\", \"court\", \"court\", \"criminal complaint\", \"dallas\", \"dan\", \"dan\", \"david\", \"david\", \"day\", \"day\", \"days\", \"days\", \"dec 2008\", \"december\", \"december\", \"december\", \"department\", \"department\", \"department\", \"development\", \"development\", \"didn\", \"didn\", \"didn\", \"didn\", \"didn\", \"diligence\", \"diligence\", \"disgraced\", \"district\", \"district\", \"district\", \"electronic\", \"engagements\", \"everybody\", \"everybody\", \"exchange\", \"exchange\", \"exchange commission\", \"exposure\", \"family\", \"family\", \"family\", \"fell\", \"felony\", \"felony\", \"fence\", \"filing\", \"financial\", \"financial\", \"financial\", \"firm\", \"firm\", \"firm\", \"firm\", \"folks\", \"fraud\", \"fraud\", \"fraud\", \"fraud\", \"friday\", \"fund\", \"fund\", \"fund\", \"fund\", \"funds\", \"funds\", \"funds\", \"funds\", \"gay\", \"glazer\", \"glazer managing\", \"god bless\", \"government\", \"government\", \"government\", \"government\", \"group\", \"group\", \"hamilton host\", \"hedge\", \"hedge\", \"hedge fund\", \"hedge fund\", \"hedge funds\", \"hedge funds\", \"history\", \"history\", \"hit\", \"hit\", \"hollywood\", \"hollywood\", \"hollywood reached\", \"host comedian\", \"house\", \"house\", \"house\", \"house\", \"house arrest\", \"housing\", \"housing\", \"inaugural\", \"industry\", \"industry\", \"industry\", \"investigation\", \"investigation\", \"investigation\", \"investment\", \"investment\", \"investment\", \"investors\", \"investors\", \"investors\", \"iraq\", \"iraqi\", \"jacob\", \"jacob\", \"jacob berkman\", \"jacob berkman\", \"jan\", \"jan\", \"jewish\", \"jewish\", \"jewish\", \"jobs\", \"june\", \"june\", \"kennedy\", \"kids\", \"killed\", \"known\", \"known\", \"known\", \"known\", \"known\", \"konig\", \"law\", \"law\", \"law\", \"law\", \"lawrence\", \"lawrence glazer\", \"light\", \"light\", \"light\", \"light\", \"like\", \"like\", \"like\", \"like\", \"like\", \"likely\", \"likely\", \"likely\", \"little\", \"little\", \"little\", \"little\", \"live\", \"lives\", \"lives\", \"living\", \"madoff\", \"madoff\", \"madoff\", \"madoff\", \"madoff\", \"madoff case\", \"madoff case\", \"madoff scandal\", \"madoff scandal\", \"maintenance\", \"managers\", \"managers\", \"managing\", \"managing\", \"managing partner\", \"market\", \"market\", \"mayflower\", \"members\", \"members\", \"men\", \"men\", \"million\", \"million\", \"million\", \"million\", \"monday\", \"monday\", \"monday\", \"money\", \"money\", \"money\", \"money\", \"money\", \"money madoff\", \"monitoring\", \"months\", \"months\", \"months\", \"months\", \"mother\", \"mother\", \"mr\", \"mr\", \"mr\", \"mr madoff\", \"music\", \"myspace\", \"nasdaq\", \"nasdaq stock\", \"new\", \"new\", \"new\", \"new\", \"new\", \"new\", \"new york\", \"new york\", \"new york\", \"new york\", \"news\", \"news\", \"news\", \"news\", \"news journal\", \"night\", \"night\", \"night\", \"night\", \"obama\", \"obama\", \"obama\", \"oil\", \"oil\", \"oklahoma\", \"online\", \"operating procedure\", \"outside\", \"overnight\", \"paid\", \"paid\", \"paid\", \"paid veco\", \"partner\", \"partner\", \"partner mayflower\", \"partners\", \"partners\", \"partners\", \"passport\", \"pastor\", \"pastor\", \"payments\", \"people\", \"people\", \"people\", \"people\", \"people\", \"people\", \"playing\", \"police\", \"police\", \"political\", \"political\", \"politician\", \"politician\", \"politicians\", \"politicians\", \"politicians\", \"ponzi\", \"ponzi\", \"ponzi\", \"ponzi\", \"ponzi scheme\", \"ponzi scheme\", \"ponzi scheme\", \"ponzi scheme\", \"president\", \"president\", \"president\", \"president\", \"president\", \"president bush\", \"prison\", \"prison\", \"prison\", \"prison\", \"prison company\", \"prosecutors\", \"prosecutors\", \"prosecutors\", \"prosecutors\", \"push\", \"raised\", \"reached\", \"reached\", \"receive\", \"receive\", \"received\", \"received\", \"received\", \"recorded\", \"red\", \"red\", \"remember\", \"rumors\", \"run\", \"run\", \"run\", \"run\", \"run\", \"said\", \"said\", \"said\", \"said\", \"said\", \"said\", \"said lawrence\", \"scandal\", \"scandal\", \"scheme\", \"scheme\", \"scheme\", \"scheme\", \"school\", \"school\", \"school\", \"sec\", \"sec\", \"second\", \"second\", \"securities\", \"securities\", \"securities exchange\", \"sentence\", \"service\", \"service\", \"share\", \"share\", \"share\", \"share\", \"share post\", \"shoes\", \"shown bribery\", \"sons\", \"stadium\", \"standard operating\", \"state\", \"state\", \"state\", \"state\", \"stock exchange\", \"store\", \"store hollywood\", \"story\", \"story\", \"story\", \"story\", \"street\", \"street\", \"street\", \"street journal\", \"streets\", \"streets\", \"strength\", \"summer\", \"team\", \"team\", \"team\", \"texas\", \"texas\", \"thursday\", \"thursday\", \"thursday\", \"time\", \"time\", \"time\", \"time\", \"time\", \"tom\", \"tom\", \"tom\", \"tom\", \"tom\", \"tom anderson\", \"tom anderson\", \"tom anderson\", \"trading\", \"trial\", \"trial\", \"trial\", \"tuesday\", \"tuesday\", \"tuesday\", \"tuesday\", \"turecek\", \"use\", \"veco\", \"veco\", \"veco shown\", \"victims\", \"victims\", \"voters\", \"voters\", \"wall\", \"wall\", \"wall\", \"wall street\", \"wall street\", \"watching\", \"way\", \"way\", \"weeks\", \"white house\", \"wife\", \"wife\", \"women\", \"women\", \"women\", \"world\", \"world\", \"world\", \"world\", \"year\", \"year\", \"year\", \"year\", \"year\", \"year\", \"years\", \"years\", \"years\", \"years\", \"years\", \"yesterday\", \"yesterday\", \"york\", \"york\", \"york\", \"york\"]}, \"R\": 30, \"lambda.step\": 0.01, \"plot.opts\": {\"xlab\": \"PC1\", \"ylab\": \"PC2\"}, \"topic.order\": [5, 1, 3, 6, 2, 4]};\n",
       "\n",
       "function LDAvis_load_lib(url, callback){\n",
       "  var s = document.createElement('script');\n",
       "  s.src = url;\n",
       "  s.async = true;\n",
       "  s.onreadystatechange = s.onload = callback;\n",
       "  s.onerror = function(){console.warn(\"failed to load library \" + url);};\n",
       "  document.getElementsByTagName(\"head\")[0].appendChild(s);\n",
       "}\n",
       "\n",
       "if(typeof(LDAvis) !== \"undefined\"){\n",
       "   // already loaded: just create the visualization\n",
       "   !function(LDAvis){\n",
       "       new LDAvis(\"#\" + \"ldavis_el150011401769774453764248896011\", ldavis_el150011401769774453764248896011_data);\n",
       "   }(LDAvis);\n",
       "}else if(typeof define === \"function\" && define.amd){\n",
       "   // require.js is available: use it to load d3/LDAvis\n",
       "   require.config({paths: {d3: \"https://d3js.org/d3.v5\"}});\n",
       "   require([\"d3\"], function(d3){\n",
       "      window.d3 = d3;\n",
       "      LDAvis_load_lib(\"https://cdn.jsdelivr.net/gh/bmabey/pyLDAvis@3.3.1/pyLDAvis/js/ldavis.v3.0.0.js\", function(){\n",
       "        new LDAvis(\"#\" + \"ldavis_el150011401769774453764248896011\", ldavis_el150011401769774453764248896011_data);\n",
       "      });\n",
       "    });\n",
       "}else{\n",
       "    // require.js not available: dynamically load d3 & LDAvis\n",
       "    LDAvis_load_lib(\"https://d3js.org/d3.v5.js\", function(){\n",
       "         LDAvis_load_lib(\"https://cdn.jsdelivr.net/gh/bmabey/pyLDAvis@3.3.1/pyLDAvis/js/ldavis.v3.0.0.js\", function(){\n",
       "                 new LDAvis(\"#\" + \"ldavis_el150011401769774453764248896011\", ldavis_el150011401769774453764248896011_data);\n",
       "            })\n",
       "         });\n",
       "}\n",
       "</script>"
      ],
      "text/plain": [
       "PreparedData(topic_coordinates=               x          y  topics  cluster       Freq\n",
       "topic                                                  \n",
       "4       1.465019 -47.625065       1        1  31.617909\n",
       "0      54.854797 -36.476795       2        1  18.455806\n",
       "2      32.212929 -61.444572       3        1  14.587555\n",
       "5       5.111096 -14.110332       4        1  13.649395\n",
       "1      26.350170 -33.374702       5        1  11.720798\n",
       "3      38.109818  -7.222781       6        1   9.968537, topic_info=              Term        Freq       Total Category  logprob  loglift\n",
       "1498          veco   54.000000   54.000000  Default  30.0000  30.0000\n",
       "1265          said  134.000000  134.000000  Default  29.0000  29.0000\n",
       "96        anderson   59.000000   59.000000  Default  28.0000  28.0000\n",
       "148       barbados   28.000000   28.000000  Default  27.0000  27.0000\n",
       "894         madoff  217.000000  217.000000  Default  26.0000  26.0000\n",
       "...            ...         ...         ...      ...      ...      ...\n",
       "1452  tom anderson    6.336856   21.066444   Topic6  -5.1827   1.1044\n",
       "1445          time    6.822316   32.648763   Topic6  -5.1089   0.7401\n",
       "973        million    6.625009   30.703543   Topic6  -5.1383   0.7722\n",
       "1096        people    6.746966   58.055902   Topic6  -5.1200   0.1534\n",
       "284       children    4.989964   12.916252   Topic6  -5.4217   1.3547\n",
       "\n",
       "[380 rows x 6 columns], token_table=      Topic      Freq       Term\n",
       "term                            \n",
       "2         1  0.382272         10\n",
       "2         3  0.445984         10\n",
       "2         4  0.063712         10\n",
       "2         6  0.127424         10\n",
       "11        2  0.849157        156\n",
       "...     ...       ...        ...\n",
       "1570      6  0.398282  yesterday\n",
       "1571      1  0.626205       york\n",
       "1571      2  0.215933       york\n",
       "1571      4  0.064780       york\n",
       "1571      5  0.086373       york\n",
       "\n",
       "[640 rows x 3 columns], R=30, lambda_step=0.01, plot_opts={'xlab': 'PC1', 'ylab': 'PC2'}, topic_order=[5, 1, 3, 6, 2, 4])"
      ]
     },
     "execution_count": 24,
     "metadata": {},
     "output_type": "execute_result"
    }
   ],
   "source": [
    "import pyLDAvis\n",
    "import pyLDAvis.sklearn\n",
    "\n",
    "pyLDAvis.enable_notebook()\n",
    "pyLDAvis.sklearn.prepare(lda, counts, count_vectorizer, mds='tsne')"
   ]
  },
  {
   "cell_type": "markdown",
   "metadata": {},
   "source": [
    "### Conclusion"
   ]
  },
  {
   "cell_type": "markdown",
   "metadata": {},
   "source": [
    "It was an interesting task I had fun playing around with. The approaches that could have been considered are limitless (especially if provided with a richer dataset), but a few of them are outlined below:\n",
    "\n",
    "- Language detection using more complex models. Necessary only if corpus contains multilingual documents.\n",
    "- More fine-grained NER, with entities such as Political Person, Offshore Company etc.\n",
    "- Graph analysis of Named Entities relatedness.\n",
    "- Further preprocessing of the text before applying the LDA model, such as fuzzy deduplication.\n",
    "- Other Topic Modelling algorithms/models such as LSA or VAEs.\n",
    "- Exhaustive hyperparameter search on models (mostly number of topics, influenced by the number/coverage of focal entities) and optimise using perplexity/log likelihood."
   ]
  }
 ],
 "metadata": {
  "kernelspec": {
   "display_name": "Python 3.8.5 64-bit ('base': conda)",
   "language": "python",
   "name": "python385jvsc74a57bd02443442720ba799d9ad7cc4950580adad0919a2997662caa400a3763488a33f1"
  },
  "language_info": {
   "codemirror_mode": {
    "name": "ipython",
    "version": 3
   },
   "file_extension": ".py",
   "mimetype": "text/x-python",
   "name": "python",
   "nbconvert_exporter": "python",
   "pygments_lexer": "ipython3",
   "version": "3.8.5"
  }
 },
 "nbformat": 4,
 "nbformat_minor": 4
}
